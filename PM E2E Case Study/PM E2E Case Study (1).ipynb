{
 "cells": [
  {
   "cell_type": "markdown",
   "metadata": {
    "colab_type": "text",
    "id": "rApPHbYBc702"
   },
   "source": [
    "# Regression Case Study\n",
    "\n",
    "**PROBLEM STATEMENT** \n",
    "There is a huge demand of used cars in the Indian Market today. As sale of new cars have slowed down in the recent past, the pre-owned car market has continued to grow over the past years and is larger than the new car market now. Consider this: In 2018-19, while new car sales were recorded at 3.6 million units, around 4 million second-hand cars were bought and sold. There is a slowdown in new car sales and that could mean that the demand is shifting towards the pre-owned market. In fact, some car sellers replace their old cars with pre-owned cars instead of buying new ones.\n",
    "\n",
    "The goal of the case is as follows:\n",
    "\n",
    "- The one major factor that holds anyone back while buying a used car is the price(target variable).You will be predicting the Price of used cars with the data collected from various sources and distributed across various locations in India.\n",
    "- Compare different models and find out which one is the most suitable in this case in predicting the prices."
   ]
  },
  {
   "cell_type": "markdown",
   "metadata": {},
   "source": [
    "**Data Dictionary**"
   ]
  },
  {
   "cell_type": "markdown",
   "metadata": {},
   "source": [
    "1. **Name:** The brand and model of the car.\n",
    "2. **Location:** The location in which the car is being sold or is available for purchase.\n",
    "3. **Year:** The year or edition of the model.\n",
    "4. **Kilometers_Driven:** The total kilometers driven in the car by the previous owner(s) in KM.\n",
    "5. **Fuel_Type:** The type of fuel used by the car.\n",
    "6. **Transmission:** The type of transmission used by the car.\n",
    "7. **Owner_Type:** Whether the ownership is Firsthand, Second hand or other.\n",
    "8. **Mileage:** The standard mileage offered by the car company in kmpl or km/kg\n",
    "9. **Engine:** The displacement volume of the engine in cc.\n",
    "10. **Power:** The maximum power of the engine in bhp.\n",
    "11. **Seats:** The number of seats in the car.\n",
    "12. **New_Price:** The price of a new car of the same model.\n",
    "13. **Price:** The price of the used car in INR Lakhs.\n",
    "\n"
   ]
  },
  {
   "cell_type": "code",
   "execution_count": 1,
   "metadata": {
    "ExecuteTime": {
     "end_time": "2020-05-12T13:14:21.767109Z",
     "start_time": "2020-05-12T13:14:21.758879Z"
    }
   },
   "outputs": [],
   "source": [
    "import numpy as np\n",
    "import pandas as pd\n",
    "import matplotlib.pyplot as plt\n",
    "%matplotlib inline\n",
    "import seaborn as sns\n",
    "from sklearn.preprocessing import StandardScaler\n",
    "from sklearn.model_selection import train_test_split\n",
    "from sklearn.linear_model import LinearRegression\n",
    "from sklearn import tree\n",
    "from sklearn.ensemble import RandomForestRegressor\n",
    "from sklearn.neural_network import MLPRegressor\n",
    "from sklearn.metrics import mean_squared_error\n",
    "from sklearn.metrics import mean_absolute_error\n",
    "from sklearn.model_selection import GridSearchCV\n",
    "\n",
    "import warnings\n",
    "warnings.filterwarnings('ignore')"
   ]
  },
  {
   "cell_type": "markdown",
   "metadata": {},
   "source": [
    "**Read the data**"
   ]
  },
  {
   "cell_type": "code",
   "execution_count": 2,
   "metadata": {
    "ExecuteTime": {
     "end_time": "2020-05-12T13:14:24.019418Z",
     "start_time": "2020-05-12T13:14:23.931546Z"
    }
   },
   "outputs": [],
   "source": [
    "cars=pd.read_csv('Cars.csv')"
   ]
  },
  {
   "cell_type": "markdown",
   "metadata": {},
   "source": [
    "**Check the Head**"
   ]
  },
  {
   "cell_type": "code",
   "execution_count": 3,
   "metadata": {
    "ExecuteTime": {
     "end_time": "2020-05-12T13:14:25.191120Z",
     "start_time": "2020-05-12T13:14:25.156248Z"
    }
   },
   "outputs": [
    {
     "data": {
      "text/html": [
       "<div>\n",
       "<style scoped>\n",
       "    .dataframe tbody tr th:only-of-type {\n",
       "        vertical-align: middle;\n",
       "    }\n",
       "\n",
       "    .dataframe tbody tr th {\n",
       "        vertical-align: top;\n",
       "    }\n",
       "\n",
       "    .dataframe thead th {\n",
       "        text-align: right;\n",
       "    }\n",
       "</style>\n",
       "<table border=\"1\" class=\"dataframe\">\n",
       "  <thead>\n",
       "    <tr style=\"text-align: right;\">\n",
       "      <th></th>\n",
       "      <th>Name</th>\n",
       "      <th>Location</th>\n",
       "      <th>Year</th>\n",
       "      <th>Kilometers_Driven</th>\n",
       "      <th>Fuel_Type</th>\n",
       "      <th>Transmission</th>\n",
       "      <th>Owner_Type</th>\n",
       "      <th>Mileage</th>\n",
       "      <th>Engine</th>\n",
       "      <th>Power</th>\n",
       "      <th>Colour</th>\n",
       "      <th>Seats</th>\n",
       "      <th>No. of Doors</th>\n",
       "      <th>New_Price</th>\n",
       "      <th>Price</th>\n",
       "    </tr>\n",
       "  </thead>\n",
       "  <tbody>\n",
       "    <tr>\n",
       "      <th>0</th>\n",
       "      <td>Mahindra Scorpio</td>\n",
       "      <td>Pune</td>\n",
       "      <td>2012.0</td>\n",
       "      <td>99000.0</td>\n",
       "      <td>Diesel</td>\n",
       "      <td>Manual</td>\n",
       "      <td>Third</td>\n",
       "      <td>12.05 kmpl</td>\n",
       "      <td>2179 CC</td>\n",
       "      <td>120 bhp</td>\n",
       "      <td>Black/Silver</td>\n",
       "      <td>8.0</td>\n",
       "      <td>5.0</td>\n",
       "      <td>NaN</td>\n",
       "      <td>6.00</td>\n",
       "    </tr>\n",
       "    <tr>\n",
       "      <th>1</th>\n",
       "      <td>Maruti Baleno</td>\n",
       "      <td>Kochi</td>\n",
       "      <td>2018.0</td>\n",
       "      <td>18678.0</td>\n",
       "      <td>Petrol</td>\n",
       "      <td>Manual</td>\n",
       "      <td>First</td>\n",
       "      <td>21.1 kmpl</td>\n",
       "      <td>998 CC</td>\n",
       "      <td>100 bhp</td>\n",
       "      <td>Others</td>\n",
       "      <td>5.0</td>\n",
       "      <td>4.0</td>\n",
       "      <td>NaN</td>\n",
       "      <td>8.32</td>\n",
       "    </tr>\n",
       "    <tr>\n",
       "      <th>2</th>\n",
       "      <td>Mahindra Xylo</td>\n",
       "      <td>Bangalore</td>\n",
       "      <td>2013.0</td>\n",
       "      <td>197000.0</td>\n",
       "      <td>Diesel</td>\n",
       "      <td>Manual</td>\n",
       "      <td>First</td>\n",
       "      <td>11.68 kmpl</td>\n",
       "      <td>2498 CC</td>\n",
       "      <td>112 bhp</td>\n",
       "      <td>White</td>\n",
       "      <td>7.0</td>\n",
       "      <td>5.0</td>\n",
       "      <td>NaN</td>\n",
       "      <td>4.00</td>\n",
       "    </tr>\n",
       "    <tr>\n",
       "      <th>3</th>\n",
       "      <td>Hyundai Grand</td>\n",
       "      <td>Delhi</td>\n",
       "      <td>2014.0</td>\n",
       "      <td>45000.0</td>\n",
       "      <td>Diesel</td>\n",
       "      <td>Manual</td>\n",
       "      <td>First</td>\n",
       "      <td>24.0 kmpl</td>\n",
       "      <td>1120 CC</td>\n",
       "      <td>70 bhp</td>\n",
       "      <td>White</td>\n",
       "      <td>5.0</td>\n",
       "      <td>4.0</td>\n",
       "      <td>NaN</td>\n",
       "      <td>3.49</td>\n",
       "    </tr>\n",
       "    <tr>\n",
       "      <th>4</th>\n",
       "      <td>Toyota Innova</td>\n",
       "      <td>Delhi</td>\n",
       "      <td>2011.0</td>\n",
       "      <td>65000.0</td>\n",
       "      <td>Diesel</td>\n",
       "      <td>Manual</td>\n",
       "      <td>First</td>\n",
       "      <td>12.8 kmpl</td>\n",
       "      <td>2494 CC</td>\n",
       "      <td>102 bhp</td>\n",
       "      <td>Others</td>\n",
       "      <td>8.0</td>\n",
       "      <td>5.0</td>\n",
       "      <td>NaN</td>\n",
       "      <td>6.40</td>\n",
       "    </tr>\n",
       "  </tbody>\n",
       "</table>\n",
       "</div>"
      ],
      "text/plain": [
       "               Name   Location    Year  Kilometers_Driven Fuel_Type  \\\n",
       "0  Mahindra Scorpio       Pune  2012.0            99000.0    Diesel   \n",
       "1     Maruti Baleno      Kochi  2018.0            18678.0    Petrol   \n",
       "2     Mahindra Xylo  Bangalore  2013.0           197000.0    Diesel   \n",
       "3     Hyundai Grand      Delhi  2014.0            45000.0    Diesel   \n",
       "4     Toyota Innova      Delhi  2011.0            65000.0    Diesel   \n",
       "\n",
       "  Transmission Owner_Type     Mileage   Engine    Power        Colour  Seats  \\\n",
       "0       Manual      Third  12.05 kmpl  2179 CC  120 bhp  Black/Silver    8.0   \n",
       "1       Manual      First   21.1 kmpl   998 CC  100 bhp        Others    5.0   \n",
       "2       Manual      First  11.68 kmpl  2498 CC  112 bhp         White    7.0   \n",
       "3       Manual      First   24.0 kmpl  1120 CC   70 bhp         White    5.0   \n",
       "4       Manual      First   12.8 kmpl  2494 CC  102 bhp        Others    8.0   \n",
       "\n",
       "   No. of Doors New_Price  Price  \n",
       "0           5.0       NaN   6.00  \n",
       "1           4.0       NaN   8.32  \n",
       "2           5.0       NaN   4.00  \n",
       "3           4.0       NaN   3.49  \n",
       "4           5.0       NaN   6.40  "
      ]
     },
     "execution_count": 3,
     "metadata": {},
     "output_type": "execute_result"
    }
   ],
   "source": [
    "cars.head()"
   ]
  },
  {
   "cell_type": "code",
   "execution_count": 4,
   "metadata": {
    "ExecuteTime": {
     "end_time": "2020-05-12T13:14:26.770322Z",
     "start_time": "2020-05-12T13:14:26.767366Z"
    }
   },
   "outputs": [],
   "source": [
    "#cars =cars[cars['Year'] >= 2000] - remove older data if resale of vehicles of tht year not allowed anymore"
   ]
  },
  {
   "cell_type": "markdown",
   "metadata": {},
   "source": [
    "**Get the info**"
   ]
  },
  {
   "cell_type": "code",
   "execution_count": 5,
   "metadata": {
    "ExecuteTime": {
     "end_time": "2020-05-12T13:14:36.237412Z",
     "start_time": "2020-05-12T13:14:36.229432Z"
    }
   },
   "outputs": [
    {
     "name": "stdout",
     "output_type": "stream",
     "text": [
      "<class 'pandas.core.frame.DataFrame'>\n",
      "RangeIndex: 5961 entries, 0 to 5960\n",
      "Data columns (total 15 columns):\n",
      " #   Column             Non-Null Count  Dtype  \n",
      "---  ------             --------------  -----  \n",
      " 0   Name               5961 non-null   object \n",
      " 1   Location           5950 non-null   object \n",
      " 2   Year               5959 non-null   float64\n",
      " 3   Kilometers_Driven  5953 non-null   float64\n",
      " 4   Fuel_Type          5961 non-null   object \n",
      " 5   Transmission       5934 non-null   object \n",
      " 6   Owner_Type         5946 non-null   object \n",
      " 7   Mileage            5959 non-null   object \n",
      " 8   Engine             5944 non-null   object \n",
      " 9   Power              5929 non-null   object \n",
      " 10  Colour             5950 non-null   object \n",
      " 11  Seats              5956 non-null   float64\n",
      " 12  No. of Doors       5960 non-null   float64\n",
      " 13  New_Price          824 non-null    object \n",
      " 14  Price              5961 non-null   float64\n",
      "dtypes: float64(5), object(10)\n",
      "memory usage: 698.7+ KB\n"
     ]
    }
   ],
   "source": [
    "cars.info()"
   ]
  },
  {
   "cell_type": "markdown",
   "metadata": {},
   "source": [
    "**Get the Summary Statistics**"
   ]
  },
  {
   "cell_type": "code",
   "execution_count": 6,
   "metadata": {
    "ExecuteTime": {
     "end_time": "2020-04-29T03:47:51.568372Z",
     "start_time": "2020-04-29T03:47:51.494890Z"
    }
   },
   "outputs": [
    {
     "data": {
      "text/html": [
       "<div>\n",
       "<style scoped>\n",
       "    .dataframe tbody tr th:only-of-type {\n",
       "        vertical-align: middle;\n",
       "    }\n",
       "\n",
       "    .dataframe tbody tr th {\n",
       "        vertical-align: top;\n",
       "    }\n",
       "\n",
       "    .dataframe thead th {\n",
       "        text-align: right;\n",
       "    }\n",
       "</style>\n",
       "<table border=\"1\" class=\"dataframe\">\n",
       "  <thead>\n",
       "    <tr style=\"text-align: right;\">\n",
       "      <th></th>\n",
       "      <th>count</th>\n",
       "      <th>unique</th>\n",
       "      <th>top</th>\n",
       "      <th>freq</th>\n",
       "      <th>mean</th>\n",
       "      <th>std</th>\n",
       "      <th>min</th>\n",
       "      <th>25%</th>\n",
       "      <th>50%</th>\n",
       "      <th>75%</th>\n",
       "      <th>max</th>\n",
       "    </tr>\n",
       "  </thead>\n",
       "  <tbody>\n",
       "    <tr>\n",
       "      <th>Name</th>\n",
       "      <td>5961</td>\n",
       "      <td>212</td>\n",
       "      <td>Maruti Swift</td>\n",
       "      <td>343</td>\n",
       "      <td>NaN</td>\n",
       "      <td>NaN</td>\n",
       "      <td>NaN</td>\n",
       "      <td>NaN</td>\n",
       "      <td>NaN</td>\n",
       "      <td>NaN</td>\n",
       "      <td>NaN</td>\n",
       "    </tr>\n",
       "    <tr>\n",
       "      <th>Location</th>\n",
       "      <td>5950</td>\n",
       "      <td>11</td>\n",
       "      <td>Mumbai</td>\n",
       "      <td>781</td>\n",
       "      <td>NaN</td>\n",
       "      <td>NaN</td>\n",
       "      <td>NaN</td>\n",
       "      <td>NaN</td>\n",
       "      <td>NaN</td>\n",
       "      <td>NaN</td>\n",
       "      <td>NaN</td>\n",
       "    </tr>\n",
       "    <tr>\n",
       "      <th>Year</th>\n",
       "      <td>5959</td>\n",
       "      <td>NaN</td>\n",
       "      <td>NaN</td>\n",
       "      <td>NaN</td>\n",
       "      <td>2013.39</td>\n",
       "      <td>3.24305</td>\n",
       "      <td>1998</td>\n",
       "      <td>2011.5</td>\n",
       "      <td>2014</td>\n",
       "      <td>2016</td>\n",
       "      <td>2019</td>\n",
       "    </tr>\n",
       "    <tr>\n",
       "      <th>Kilometers_Driven</th>\n",
       "      <td>5953</td>\n",
       "      <td>NaN</td>\n",
       "      <td>NaN</td>\n",
       "      <td>NaN</td>\n",
       "      <td>58711.1</td>\n",
       "      <td>91712.2</td>\n",
       "      <td>171</td>\n",
       "      <td>33931</td>\n",
       "      <td>53000</td>\n",
       "      <td>73000</td>\n",
       "      <td>6.5e+06</td>\n",
       "    </tr>\n",
       "    <tr>\n",
       "      <th>Fuel_Type</th>\n",
       "      <td>5961</td>\n",
       "      <td>5</td>\n",
       "      <td>Diesel</td>\n",
       "      <td>3188</td>\n",
       "      <td>NaN</td>\n",
       "      <td>NaN</td>\n",
       "      <td>NaN</td>\n",
       "      <td>NaN</td>\n",
       "      <td>NaN</td>\n",
       "      <td>NaN</td>\n",
       "      <td>NaN</td>\n",
       "    </tr>\n",
       "    <tr>\n",
       "      <th>Transmission</th>\n",
       "      <td>5934</td>\n",
       "      <td>2</td>\n",
       "      <td>Manual</td>\n",
       "      <td>4225</td>\n",
       "      <td>NaN</td>\n",
       "      <td>NaN</td>\n",
       "      <td>NaN</td>\n",
       "      <td>NaN</td>\n",
       "      <td>NaN</td>\n",
       "      <td>NaN</td>\n",
       "      <td>NaN</td>\n",
       "    </tr>\n",
       "    <tr>\n",
       "      <th>Owner_Type</th>\n",
       "      <td>5946</td>\n",
       "      <td>4</td>\n",
       "      <td>First</td>\n",
       "      <td>4875</td>\n",
       "      <td>NaN</td>\n",
       "      <td>NaN</td>\n",
       "      <td>NaN</td>\n",
       "      <td>NaN</td>\n",
       "      <td>NaN</td>\n",
       "      <td>NaN</td>\n",
       "      <td>NaN</td>\n",
       "    </tr>\n",
       "    <tr>\n",
       "      <th>Mileage</th>\n",
       "      <td>5959</td>\n",
       "      <td>439</td>\n",
       "      <td>18.9 kmpl</td>\n",
       "      <td>172</td>\n",
       "      <td>NaN</td>\n",
       "      <td>NaN</td>\n",
       "      <td>NaN</td>\n",
       "      <td>NaN</td>\n",
       "      <td>NaN</td>\n",
       "      <td>NaN</td>\n",
       "      <td>NaN</td>\n",
       "    </tr>\n",
       "    <tr>\n",
       "      <th>Engine</th>\n",
       "      <td>5944</td>\n",
       "      <td>143</td>\n",
       "      <td>1197 CC</td>\n",
       "      <td>606</td>\n",
       "      <td>NaN</td>\n",
       "      <td>NaN</td>\n",
       "      <td>NaN</td>\n",
       "      <td>NaN</td>\n",
       "      <td>NaN</td>\n",
       "      <td>NaN</td>\n",
       "      <td>NaN</td>\n",
       "    </tr>\n",
       "    <tr>\n",
       "      <th>Power</th>\n",
       "      <td>5929</td>\n",
       "      <td>369</td>\n",
       "      <td>74 bhp</td>\n",
       "      <td>233</td>\n",
       "      <td>NaN</td>\n",
       "      <td>NaN</td>\n",
       "      <td>NaN</td>\n",
       "      <td>NaN</td>\n",
       "      <td>NaN</td>\n",
       "      <td>NaN</td>\n",
       "      <td>NaN</td>\n",
       "    </tr>\n",
       "    <tr>\n",
       "      <th>Colour</th>\n",
       "      <td>5950</td>\n",
       "      <td>3</td>\n",
       "      <td>White</td>\n",
       "      <td>2115</td>\n",
       "      <td>NaN</td>\n",
       "      <td>NaN</td>\n",
       "      <td>NaN</td>\n",
       "      <td>NaN</td>\n",
       "      <td>NaN</td>\n",
       "      <td>NaN</td>\n",
       "      <td>NaN</td>\n",
       "    </tr>\n",
       "    <tr>\n",
       "      <th>Seats</th>\n",
       "      <td>5956</td>\n",
       "      <td>NaN</td>\n",
       "      <td>NaN</td>\n",
       "      <td>NaN</td>\n",
       "      <td>5.26914</td>\n",
       "      <td>0.789048</td>\n",
       "      <td>2</td>\n",
       "      <td>5</td>\n",
       "      <td>5</td>\n",
       "      <td>5</td>\n",
       "      <td>10</td>\n",
       "    </tr>\n",
       "    <tr>\n",
       "      <th>No. of Doors</th>\n",
       "      <td>5960</td>\n",
       "      <td>NaN</td>\n",
       "      <td>NaN</td>\n",
       "      <td>NaN</td>\n",
       "      <td>4.11493</td>\n",
       "      <td>0.344757</td>\n",
       "      <td>2</td>\n",
       "      <td>4</td>\n",
       "      <td>4</td>\n",
       "      <td>4</td>\n",
       "      <td>5</td>\n",
       "    </tr>\n",
       "    <tr>\n",
       "      <th>New_Price</th>\n",
       "      <td>824</td>\n",
       "      <td>540</td>\n",
       "      <td>63.71 Lakh</td>\n",
       "      <td>6</td>\n",
       "      <td>NaN</td>\n",
       "      <td>NaN</td>\n",
       "      <td>NaN</td>\n",
       "      <td>NaN</td>\n",
       "      <td>NaN</td>\n",
       "      <td>NaN</td>\n",
       "      <td>NaN</td>\n",
       "    </tr>\n",
       "    <tr>\n",
       "      <th>Price</th>\n",
       "      <td>5961</td>\n",
       "      <td>NaN</td>\n",
       "      <td>NaN</td>\n",
       "      <td>NaN</td>\n",
       "      <td>9.5281</td>\n",
       "      <td>11.2144</td>\n",
       "      <td>0.44</td>\n",
       "      <td>3.5</td>\n",
       "      <td>5.66</td>\n",
       "      <td>10</td>\n",
       "      <td>160</td>\n",
       "    </tr>\n",
       "  </tbody>\n",
       "</table>\n",
       "</div>"
      ],
      "text/plain": [
       "                  count unique           top  freq     mean       std   min  \\\n",
       "Name               5961    212  Maruti Swift   343      NaN       NaN   NaN   \n",
       "Location           5950     11        Mumbai   781      NaN       NaN   NaN   \n",
       "Year               5959    NaN           NaN   NaN  2013.39   3.24305  1998   \n",
       "Kilometers_Driven  5953    NaN           NaN   NaN  58711.1   91712.2   171   \n",
       "Fuel_Type          5961      5        Diesel  3188      NaN       NaN   NaN   \n",
       "Transmission       5934      2        Manual  4225      NaN       NaN   NaN   \n",
       "Owner_Type         5946      4         First  4875      NaN       NaN   NaN   \n",
       "Mileage            5959    439     18.9 kmpl   172      NaN       NaN   NaN   \n",
       "Engine             5944    143       1197 CC   606      NaN       NaN   NaN   \n",
       "Power              5929    369        74 bhp   233      NaN       NaN   NaN   \n",
       "Colour             5950      3         White  2115      NaN       NaN   NaN   \n",
       "Seats              5956    NaN           NaN   NaN  5.26914  0.789048     2   \n",
       "No. of Doors       5960    NaN           NaN   NaN  4.11493  0.344757     2   \n",
       "New_Price           824    540    63.71 Lakh     6      NaN       NaN   NaN   \n",
       "Price              5961    NaN           NaN   NaN   9.5281   11.2144  0.44   \n",
       "\n",
       "                      25%    50%    75%      max  \n",
       "Name                  NaN    NaN    NaN      NaN  \n",
       "Location              NaN    NaN    NaN      NaN  \n",
       "Year               2011.5   2014   2016     2019  \n",
       "Kilometers_Driven   33931  53000  73000  6.5e+06  \n",
       "Fuel_Type             NaN    NaN    NaN      NaN  \n",
       "Transmission          NaN    NaN    NaN      NaN  \n",
       "Owner_Type            NaN    NaN    NaN      NaN  \n",
       "Mileage               NaN    NaN    NaN      NaN  \n",
       "Engine                NaN    NaN    NaN      NaN  \n",
       "Power                 NaN    NaN    NaN      NaN  \n",
       "Colour                NaN    NaN    NaN      NaN  \n",
       "Seats                   5      5      5       10  \n",
       "No. of Doors            4      4      4        5  \n",
       "New_Price             NaN    NaN    NaN      NaN  \n",
       "Price                 3.5   5.66     10      160  "
      ]
     },
     "execution_count": 6,
     "metadata": {},
     "output_type": "execute_result"
    }
   ],
   "source": [
    "cars.describe(include='all').T"
   ]
  },
  {
   "cell_type": "markdown",
   "metadata": {},
   "source": [
    "**Check for Null Values**"
   ]
  },
  {
   "cell_type": "code",
   "execution_count": 7,
   "metadata": {
    "ExecuteTime": {
     "end_time": "2020-04-29T03:47:52.035325Z",
     "start_time": "2020-04-29T03:47:52.024261Z"
    }
   },
   "outputs": [
    {
     "data": {
      "text/plain": [
       "Name                    0\n",
       "Location               11\n",
       "Year                    2\n",
       "Kilometers_Driven       8\n",
       "Fuel_Type               0\n",
       "Transmission           27\n",
       "Owner_Type             15\n",
       "Mileage                 2\n",
       "Engine                 17\n",
       "Power                  32\n",
       "Colour                 11\n",
       "Seats                   5\n",
       "No. of Doors            1\n",
       "New_Price            5137\n",
       "Price                   0\n",
       "dtype: int64"
      ]
     },
     "execution_count": 7,
     "metadata": {},
     "output_type": "execute_result"
    }
   ],
   "source": [
    "cars.isnull().sum()"
   ]
  },
  {
   "cell_type": "markdown",
   "metadata": {},
   "source": [
    "**% Null values**"
   ]
  },
  {
   "cell_type": "code",
   "execution_count": 8,
   "metadata": {},
   "outputs": [
    {
     "data": {
      "text/plain": [
       "Name                  0.000000\n",
       "Location              0.184533\n",
       "Year                  0.033551\n",
       "Kilometers_Driven     0.134206\n",
       "Fuel_Type             0.000000\n",
       "Transmission          0.452944\n",
       "Owner_Type            0.251636\n",
       "Mileage               0.033551\n",
       "Engine                0.285187\n",
       "Power                 0.536823\n",
       "Colour                0.184533\n",
       "Seats                 0.083879\n",
       "No. of Doors          0.016776\n",
       "New_Price            86.176816\n",
       "Price                 0.000000\n",
       "dtype: float64"
      ]
     },
     "execution_count": 8,
     "metadata": {},
     "output_type": "execute_result"
    }
   ],
   "source": [
    "cars.isnull().sum()/cars.index.size*100"
   ]
  },
  {
   "cell_type": "code",
   "execution_count": 9,
   "metadata": {
    "ExecuteTime": {
     "end_time": "2020-04-29T03:47:52.515084Z",
     "start_time": "2020-04-29T03:47:52.481900Z"
    }
   },
   "outputs": [
    {
     "data": {
      "text/plain": [
       "Name                  0.000000\n",
       "Location              0.208808\n",
       "Year                  0.037965\n",
       "Kilometers_Driven     0.151860\n",
       "Fuel_Type             0.000000\n",
       "Transmission          0.512528\n",
       "Owner_Type            0.284738\n",
       "Mileage               0.037965\n",
       "Engine                0.322703\n",
       "Power                 0.607441\n",
       "Colour                0.208808\n",
       "Seats                 0.094913\n",
       "No. of Doors          0.018983\n",
       "New_Price            97.513288\n",
       "Price                 0.000000\n",
       "dtype: float64"
      ]
     },
     "execution_count": 9,
     "metadata": {},
     "output_type": "execute_result"
    }
   ],
   "source": [
    "cars.isnull().sum()/cars.isnull().sum().sum()*100"
   ]
  },
  {
   "cell_type": "markdown",
   "metadata": {},
   "source": [
    "**Since New_Price has over 86% Null values, we would drop this column for now**"
   ]
  },
  {
   "cell_type": "code",
   "execution_count": 10,
   "metadata": {
    "ExecuteTime": {
     "end_time": "2020-04-29T03:47:53.012521Z",
     "start_time": "2020-04-29T03:47:53.006685Z"
    }
   },
   "outputs": [],
   "source": [
    "cars=cars.drop('New_Price',axis=1)"
   ]
  },
  {
   "cell_type": "code",
   "execution_count": 11,
   "metadata": {},
   "outputs": [
    {
     "data": {
      "text/html": [
       "<div>\n",
       "<style scoped>\n",
       "    .dataframe tbody tr th:only-of-type {\n",
       "        vertical-align: middle;\n",
       "    }\n",
       "\n",
       "    .dataframe tbody tr th {\n",
       "        vertical-align: top;\n",
       "    }\n",
       "\n",
       "    .dataframe thead th {\n",
       "        text-align: right;\n",
       "    }\n",
       "</style>\n",
       "<table border=\"1\" class=\"dataframe\">\n",
       "  <thead>\n",
       "    <tr style=\"text-align: right;\">\n",
       "      <th></th>\n",
       "      <th>Name</th>\n",
       "      <th>Location</th>\n",
       "      <th>Year</th>\n",
       "      <th>Kilometers_Driven</th>\n",
       "      <th>Fuel_Type</th>\n",
       "      <th>Transmission</th>\n",
       "      <th>Owner_Type</th>\n",
       "      <th>Mileage</th>\n",
       "      <th>Engine</th>\n",
       "      <th>Power</th>\n",
       "      <th>Colour</th>\n",
       "      <th>Seats</th>\n",
       "      <th>No. of Doors</th>\n",
       "      <th>Price</th>\n",
       "    </tr>\n",
       "  </thead>\n",
       "  <tbody>\n",
       "    <tr>\n",
       "      <th>0</th>\n",
       "      <td>Mahindra Scorpio</td>\n",
       "      <td>Pune</td>\n",
       "      <td>2012.0</td>\n",
       "      <td>99000.0</td>\n",
       "      <td>Diesel</td>\n",
       "      <td>Manual</td>\n",
       "      <td>Third</td>\n",
       "      <td>12.05 kmpl</td>\n",
       "      <td>2179 CC</td>\n",
       "      <td>120 bhp</td>\n",
       "      <td>Black/Silver</td>\n",
       "      <td>8.0</td>\n",
       "      <td>5.0</td>\n",
       "      <td>6.00</td>\n",
       "    </tr>\n",
       "    <tr>\n",
       "      <th>1</th>\n",
       "      <td>Maruti Baleno</td>\n",
       "      <td>Kochi</td>\n",
       "      <td>2018.0</td>\n",
       "      <td>18678.0</td>\n",
       "      <td>Petrol</td>\n",
       "      <td>Manual</td>\n",
       "      <td>First</td>\n",
       "      <td>21.1 kmpl</td>\n",
       "      <td>998 CC</td>\n",
       "      <td>100 bhp</td>\n",
       "      <td>Others</td>\n",
       "      <td>5.0</td>\n",
       "      <td>4.0</td>\n",
       "      <td>8.32</td>\n",
       "    </tr>\n",
       "    <tr>\n",
       "      <th>2</th>\n",
       "      <td>Mahindra Xylo</td>\n",
       "      <td>Bangalore</td>\n",
       "      <td>2013.0</td>\n",
       "      <td>197000.0</td>\n",
       "      <td>Diesel</td>\n",
       "      <td>Manual</td>\n",
       "      <td>First</td>\n",
       "      <td>11.68 kmpl</td>\n",
       "      <td>2498 CC</td>\n",
       "      <td>112 bhp</td>\n",
       "      <td>White</td>\n",
       "      <td>7.0</td>\n",
       "      <td>5.0</td>\n",
       "      <td>4.00</td>\n",
       "    </tr>\n",
       "    <tr>\n",
       "      <th>3</th>\n",
       "      <td>Hyundai Grand</td>\n",
       "      <td>Delhi</td>\n",
       "      <td>2014.0</td>\n",
       "      <td>45000.0</td>\n",
       "      <td>Diesel</td>\n",
       "      <td>Manual</td>\n",
       "      <td>First</td>\n",
       "      <td>24.0 kmpl</td>\n",
       "      <td>1120 CC</td>\n",
       "      <td>70 bhp</td>\n",
       "      <td>White</td>\n",
       "      <td>5.0</td>\n",
       "      <td>4.0</td>\n",
       "      <td>3.49</td>\n",
       "    </tr>\n",
       "    <tr>\n",
       "      <th>4</th>\n",
       "      <td>Toyota Innova</td>\n",
       "      <td>Delhi</td>\n",
       "      <td>2011.0</td>\n",
       "      <td>65000.0</td>\n",
       "      <td>Diesel</td>\n",
       "      <td>Manual</td>\n",
       "      <td>First</td>\n",
       "      <td>12.8 kmpl</td>\n",
       "      <td>2494 CC</td>\n",
       "      <td>102 bhp</td>\n",
       "      <td>Others</td>\n",
       "      <td>8.0</td>\n",
       "      <td>5.0</td>\n",
       "      <td>6.40</td>\n",
       "    </tr>\n",
       "  </tbody>\n",
       "</table>\n",
       "</div>"
      ],
      "text/plain": [
       "               Name   Location    Year  Kilometers_Driven Fuel_Type  \\\n",
       "0  Mahindra Scorpio       Pune  2012.0            99000.0    Diesel   \n",
       "1     Maruti Baleno      Kochi  2018.0            18678.0    Petrol   \n",
       "2     Mahindra Xylo  Bangalore  2013.0           197000.0    Diesel   \n",
       "3     Hyundai Grand      Delhi  2014.0            45000.0    Diesel   \n",
       "4     Toyota Innova      Delhi  2011.0            65000.0    Diesel   \n",
       "\n",
       "  Transmission Owner_Type     Mileage   Engine    Power        Colour  Seats  \\\n",
       "0       Manual      Third  12.05 kmpl  2179 CC  120 bhp  Black/Silver    8.0   \n",
       "1       Manual      First   21.1 kmpl   998 CC  100 bhp        Others    5.0   \n",
       "2       Manual      First  11.68 kmpl  2498 CC  112 bhp         White    7.0   \n",
       "3       Manual      First   24.0 kmpl  1120 CC   70 bhp         White    5.0   \n",
       "4       Manual      First   12.8 kmpl  2494 CC  102 bhp        Others    8.0   \n",
       "\n",
       "   No. of Doors  Price  \n",
       "0           5.0   6.00  \n",
       "1           4.0   8.32  \n",
       "2           5.0   4.00  \n",
       "3           4.0   3.49  \n",
       "4           5.0   6.40  "
      ]
     },
     "execution_count": 11,
     "metadata": {},
     "output_type": "execute_result"
    }
   ],
   "source": [
    "cars.head()"
   ]
  },
  {
   "cell_type": "markdown",
   "metadata": {},
   "source": [
    "**Check for Duplicates**"
   ]
  },
  {
   "cell_type": "code",
   "execution_count": 12,
   "metadata": {},
   "outputs": [
    {
     "data": {
      "text/plain": [
       "2"
      ]
     },
     "execution_count": 12,
     "metadata": {},
     "output_type": "execute_result"
    }
   ],
   "source": [
    "cars.duplicated().sum()"
   ]
  },
  {
   "cell_type": "code",
   "execution_count": 13,
   "metadata": {},
   "outputs": [],
   "source": [
    "cars.drop_duplicates(inplace=True)"
   ]
  },
  {
   "cell_type": "markdown",
   "metadata": {},
   "source": [
    "**Check for Object Data Type**"
   ]
  },
  {
   "cell_type": "code",
   "execution_count": 14,
   "metadata": {
    "ExecuteTime": {
     "end_time": "2020-04-29T03:47:53.515420Z",
     "start_time": "2020-04-29T03:47:53.493942Z"
    }
   },
   "outputs": [
    {
     "data": {
      "text/html": [
       "<div>\n",
       "<style scoped>\n",
       "    .dataframe tbody tr th:only-of-type {\n",
       "        vertical-align: middle;\n",
       "    }\n",
       "\n",
       "    .dataframe tbody tr th {\n",
       "        vertical-align: top;\n",
       "    }\n",
       "\n",
       "    .dataframe thead th {\n",
       "        text-align: right;\n",
       "    }\n",
       "</style>\n",
       "<table border=\"1\" class=\"dataframe\">\n",
       "  <thead>\n",
       "    <tr style=\"text-align: right;\">\n",
       "      <th></th>\n",
       "      <th>Name</th>\n",
       "      <th>Location</th>\n",
       "      <th>Fuel_Type</th>\n",
       "      <th>Transmission</th>\n",
       "      <th>Owner_Type</th>\n",
       "      <th>Mileage</th>\n",
       "      <th>Engine</th>\n",
       "      <th>Power</th>\n",
       "      <th>Colour</th>\n",
       "    </tr>\n",
       "  </thead>\n",
       "  <tbody>\n",
       "    <tr>\n",
       "      <th>0</th>\n",
       "      <td>Mahindra Scorpio</td>\n",
       "      <td>Pune</td>\n",
       "      <td>Diesel</td>\n",
       "      <td>Manual</td>\n",
       "      <td>Third</td>\n",
       "      <td>12.05 kmpl</td>\n",
       "      <td>2179 CC</td>\n",
       "      <td>120 bhp</td>\n",
       "      <td>Black/Silver</td>\n",
       "    </tr>\n",
       "    <tr>\n",
       "      <th>1</th>\n",
       "      <td>Maruti Baleno</td>\n",
       "      <td>Kochi</td>\n",
       "      <td>Petrol</td>\n",
       "      <td>Manual</td>\n",
       "      <td>First</td>\n",
       "      <td>21.1 kmpl</td>\n",
       "      <td>998 CC</td>\n",
       "      <td>100 bhp</td>\n",
       "      <td>Others</td>\n",
       "    </tr>\n",
       "    <tr>\n",
       "      <th>2</th>\n",
       "      <td>Mahindra Xylo</td>\n",
       "      <td>Bangalore</td>\n",
       "      <td>Diesel</td>\n",
       "      <td>Manual</td>\n",
       "      <td>First</td>\n",
       "      <td>11.68 kmpl</td>\n",
       "      <td>2498 CC</td>\n",
       "      <td>112 bhp</td>\n",
       "      <td>White</td>\n",
       "    </tr>\n",
       "    <tr>\n",
       "      <th>3</th>\n",
       "      <td>Hyundai Grand</td>\n",
       "      <td>Delhi</td>\n",
       "      <td>Diesel</td>\n",
       "      <td>Manual</td>\n",
       "      <td>First</td>\n",
       "      <td>24.0 kmpl</td>\n",
       "      <td>1120 CC</td>\n",
       "      <td>70 bhp</td>\n",
       "      <td>White</td>\n",
       "    </tr>\n",
       "    <tr>\n",
       "      <th>4</th>\n",
       "      <td>Toyota Innova</td>\n",
       "      <td>Delhi</td>\n",
       "      <td>Diesel</td>\n",
       "      <td>Manual</td>\n",
       "      <td>First</td>\n",
       "      <td>12.8 kmpl</td>\n",
       "      <td>2494 CC</td>\n",
       "      <td>102 bhp</td>\n",
       "      <td>Others</td>\n",
       "    </tr>\n",
       "  </tbody>\n",
       "</table>\n",
       "</div>"
      ],
      "text/plain": [
       "               Name   Location Fuel_Type Transmission Owner_Type     Mileage  \\\n",
       "0  Mahindra Scorpio       Pune    Diesel       Manual      Third  12.05 kmpl   \n",
       "1     Maruti Baleno      Kochi    Petrol       Manual      First   21.1 kmpl   \n",
       "2     Mahindra Xylo  Bangalore    Diesel       Manual      First  11.68 kmpl   \n",
       "3     Hyundai Grand      Delhi    Diesel       Manual      First   24.0 kmpl   \n",
       "4     Toyota Innova      Delhi    Diesel       Manual      First   12.8 kmpl   \n",
       "\n",
       "    Engine    Power        Colour  \n",
       "0  2179 CC  120 bhp  Black/Silver  \n",
       "1   998 CC  100 bhp        Others  \n",
       "2  2498 CC  112 bhp         White  \n",
       "3  1120 CC   70 bhp         White  \n",
       "4  2494 CC  102 bhp        Others  "
      ]
     },
     "execution_count": 14,
     "metadata": {},
     "output_type": "execute_result"
    }
   ],
   "source": [
    "cars.select_dtypes(include='object').head()"
   ]
  },
  {
   "cell_type": "markdown",
   "metadata": {},
   "source": [
    "- It seems that the columns Mileage, Engine , Power needs to be cleaned and converted to Float/int dtype"
   ]
  },
  {
   "cell_type": "code",
   "execution_count": 15,
   "metadata": {
    "ExecuteTime": {
     "end_time": "2020-04-29T03:47:54.054807Z",
     "start_time": "2020-04-29T03:47:54.021217Z"
    },
    "colab": {},
    "colab_type": "code",
    "id": "r5FxLpsGFlN1"
   },
   "outputs": [],
   "source": [
    "cars['Mileage'] = cars['Mileage'].str.replace('kmpl','').str.replace('km/kg','').astype('float')"
   ]
  },
  {
   "cell_type": "code",
   "execution_count": 16,
   "metadata": {
    "ExecuteTime": {
     "end_time": "2020-04-29T03:47:54.540939Z",
     "start_time": "2020-04-29T03:47:54.517793Z"
    },
    "colab": {},
    "colab_type": "code",
    "id": "t6om6y2HFuX1"
   },
   "outputs": [],
   "source": [
    "cars['Engine'] = cars['Engine'].str.replace('CC','').astype('float')"
   ]
  },
  {
   "cell_type": "code",
   "execution_count": 17,
   "metadata": {
    "ExecuteTime": {
     "end_time": "2020-04-29T03:47:55.037863Z",
     "start_time": "2020-04-29T03:47:55.019686Z"
    },
    "colab": {},
    "colab_type": "code",
    "id": "uHMSmRm_F3kE"
   },
   "outputs": [],
   "source": [
    "cars['Power'] = cars['Power'].replace('null bhp', np.nan)"
   ]
  },
  {
   "cell_type": "code",
   "execution_count": 18,
   "metadata": {},
   "outputs": [],
   "source": [
    "cars['Power'] = cars['Power'].str.replace('bhp','').astype('float')"
   ]
  },
  {
   "cell_type": "code",
   "execution_count": 19,
   "metadata": {
    "ExecuteTime": {
     "end_time": "2020-04-29T03:47:55.587732Z",
     "start_time": "2020-04-29T03:47:55.573635Z"
    }
   },
   "outputs": [
    {
     "data": {
      "text/html": [
       "<div>\n",
       "<style scoped>\n",
       "    .dataframe tbody tr th:only-of-type {\n",
       "        vertical-align: middle;\n",
       "    }\n",
       "\n",
       "    .dataframe tbody tr th {\n",
       "        vertical-align: top;\n",
       "    }\n",
       "\n",
       "    .dataframe thead th {\n",
       "        text-align: right;\n",
       "    }\n",
       "</style>\n",
       "<table border=\"1\" class=\"dataframe\">\n",
       "  <thead>\n",
       "    <tr style=\"text-align: right;\">\n",
       "      <th></th>\n",
       "      <th>Name</th>\n",
       "      <th>Location</th>\n",
       "      <th>Fuel_Type</th>\n",
       "      <th>Transmission</th>\n",
       "      <th>Owner_Type</th>\n",
       "      <th>Colour</th>\n",
       "    </tr>\n",
       "  </thead>\n",
       "  <tbody>\n",
       "    <tr>\n",
       "      <th>0</th>\n",
       "      <td>Mahindra Scorpio</td>\n",
       "      <td>Pune</td>\n",
       "      <td>Diesel</td>\n",
       "      <td>Manual</td>\n",
       "      <td>Third</td>\n",
       "      <td>Black/Silver</td>\n",
       "    </tr>\n",
       "    <tr>\n",
       "      <th>1</th>\n",
       "      <td>Maruti Baleno</td>\n",
       "      <td>Kochi</td>\n",
       "      <td>Petrol</td>\n",
       "      <td>Manual</td>\n",
       "      <td>First</td>\n",
       "      <td>Others</td>\n",
       "    </tr>\n",
       "    <tr>\n",
       "      <th>2</th>\n",
       "      <td>Mahindra Xylo</td>\n",
       "      <td>Bangalore</td>\n",
       "      <td>Diesel</td>\n",
       "      <td>Manual</td>\n",
       "      <td>First</td>\n",
       "      <td>White</td>\n",
       "    </tr>\n",
       "    <tr>\n",
       "      <th>3</th>\n",
       "      <td>Hyundai Grand</td>\n",
       "      <td>Delhi</td>\n",
       "      <td>Diesel</td>\n",
       "      <td>Manual</td>\n",
       "      <td>First</td>\n",
       "      <td>White</td>\n",
       "    </tr>\n",
       "    <tr>\n",
       "      <th>4</th>\n",
       "      <td>Toyota Innova</td>\n",
       "      <td>Delhi</td>\n",
       "      <td>Diesel</td>\n",
       "      <td>Manual</td>\n",
       "      <td>First</td>\n",
       "      <td>Others</td>\n",
       "    </tr>\n",
       "  </tbody>\n",
       "</table>\n",
       "</div>"
      ],
      "text/plain": [
       "               Name   Location Fuel_Type Transmission Owner_Type        Colour\n",
       "0  Mahindra Scorpio       Pune    Diesel       Manual      Third  Black/Silver\n",
       "1     Maruti Baleno      Kochi    Petrol       Manual      First        Others\n",
       "2     Mahindra Xylo  Bangalore    Diesel       Manual      First         White\n",
       "3     Hyundai Grand      Delhi    Diesel       Manual      First         White\n",
       "4     Toyota Innova      Delhi    Diesel       Manual      First        Others"
      ]
     },
     "execution_count": 19,
     "metadata": {},
     "output_type": "execute_result"
    }
   ],
   "source": [
    "cars.select_dtypes(include='object').head()"
   ]
  },
  {
   "cell_type": "markdown",
   "metadata": {},
   "source": [
    "**Create a new column 'Brand' which has the brand name of the Cars**"
   ]
  },
  {
   "cell_type": "code",
   "execution_count": 20,
   "metadata": {
    "ExecuteTime": {
     "end_time": "2020-04-29T03:47:56.062187Z",
     "start_time": "2020-04-29T03:47:56.049475Z"
    },
    "scrolled": true
   },
   "outputs": [],
   "source": [
    "cars['Brand']=cars.Name.apply(lambda x:x.split(' ')[0])"
   ]
  },
  {
   "cell_type": "code",
   "execution_count": 21,
   "metadata": {},
   "outputs": [
    {
     "data": {
      "text/plain": [
       "Maruti           1187\n",
       "Hyundai          1100\n",
       "Honda             601\n",
       "Toyota            410\n",
       "Mercedes-Benz     318\n",
       "Volkswagen        315\n",
       "Ford              298\n",
       "Mahindra          272\n",
       "BMW               267\n",
       "Audi              236\n",
       "Tata              184\n",
       "Skoda             173\n",
       "Renault           143\n",
       "Chevrolet         113\n",
       "Nissan             91\n",
       "Land               57\n",
       "Jaguar             40\n",
       "Mitsubishi         27\n",
       "Mini               26\n",
       "Fiat               25\n",
       "Volvo              21\n",
       "Porsche            18\n",
       "Jeep               15\n",
       "Datsun             13\n",
       "Force               3\n",
       "ISUZU               2\n",
       "Smart               1\n",
       "Lamborghini         1\n",
       "Isuzu               1\n",
       "Bentley             1\n",
       "Name: Brand, dtype: int64"
      ]
     },
     "execution_count": 21,
     "metadata": {},
     "output_type": "execute_result"
    }
   ],
   "source": [
    "cars.Brand.value_counts()"
   ]
  },
  {
   "cell_type": "markdown",
   "metadata": {},
   "source": [
    "- Brand Isuzu is available twice in different cases ('ISUZU', 'Isuzu'). To avoid this being considered as 2 different brands, correct to single format"
   ]
  },
  {
   "cell_type": "code",
   "execution_count": 22,
   "metadata": {},
   "outputs": [],
   "source": [
    "cars['Brand'] = cars['Brand'].str.replace('ISUZU', 'Isuzu')"
   ]
  },
  {
   "cell_type": "markdown",
   "metadata": {},
   "source": [
    "**Create a new column 'Model' which has the Model name of the Cars**"
   ]
  },
  {
   "cell_type": "code",
   "execution_count": 23,
   "metadata": {
    "ExecuteTime": {
     "end_time": "2020-04-29T03:47:56.574001Z",
     "start_time": "2020-04-29T03:47:56.558993Z"
    }
   },
   "outputs": [],
   "source": [
    "cars['Model']=cars.Name.apply(lambda x: ' '.join(x.split(' ')[1:]))"
   ]
  },
  {
   "cell_type": "code",
   "execution_count": 24,
   "metadata": {
    "scrolled": false
   },
   "outputs": [
    {
     "data": {
      "text/plain": [
       "1                     3\n",
       "1000                  1\n",
       "3                    98\n",
       "5                    68\n",
       "6                     7\n",
       "7                    13\n",
       "800                  12\n",
       "A                     8\n",
       "A-Star               17\n",
       "A3                    4\n",
       "A4                   78\n",
       "A6                   49\n",
       "A7                    3\n",
       "A8                    2\n",
       "Accent               18\n",
       "Accord               26\n",
       "Alto                142\n",
       "Amaze               106\n",
       "Ameo                 19\n",
       "Aspire                4\n",
       "Aveo                 14\n",
       "Avventura             4\n",
       "B                    12\n",
       "BR-V                  3\n",
       "BRV                   5\n",
       "Baleno               62\n",
       "Beat                 46\n",
       "Beetle                1\n",
       "Bolero               15\n",
       "Bolt                  4\n",
       "Boxster               1\n",
       "Brio                 60\n",
       "C-Class               3\n",
       "CLA                  13\n",
       "CLS-Class             1\n",
       "CR-V                 26\n",
       "Camry                11\n",
       "Captiva               2\n",
       "Captur                3\n",
       "Cayenne               7\n",
       "Cayman                2\n",
       "Cedia                 2\n",
       "Celerio              58\n",
       "Ciaz                 71\n",
       "City                265\n",
       "Civic                32\n",
       "Classic               1\n",
       "Clubman               1\n",
       "Compass              15\n",
       "Continental           1\n",
       "Cooper               24\n",
       "Corolla              68\n",
       "Countryman            1\n",
       "Creta                93\n",
       "CrossPolo             4\n",
       "Cruze                18\n",
       "D-MAX                 2\n",
       "Duster               83\n",
       "Dzire                24\n",
       "E                     1\n",
       "E-Class              88\n",
       "EON                  61\n",
       "EcoSport             42\n",
       "Ecosport             53\n",
       "Eeco                 18\n",
       "Elantra              22\n",
       "Elite                14\n",
       "Endeavour            38\n",
       "Enjoy                 3\n",
       "Ertiga               75\n",
       "Esteem                5\n",
       "Etios                60\n",
       "Evalia                1\n",
       "F                     1\n",
       "Fabia                11\n",
       "Fiesta               40\n",
       "Figo                100\n",
       "Fluence               4\n",
       "Fortuner            101\n",
       "Fortwo                1\n",
       "Freestyle             3\n",
       "Fusion                1\n",
       "GL-Class             11\n",
       "GLA                  18\n",
       "GLC                   8\n",
       "GLE                  12\n",
       "GLS                   2\n",
       "GO                    6\n",
       "Gallardo              1\n",
       "Getz                 10\n",
       "Grand               156\n",
       "Grande                5\n",
       "Hexa                  4\n",
       "Ignis                 6\n",
       "Ikon                 15\n",
       "Indica               40\n",
       "Indigo               31\n",
       "Innova              164\n",
       "Jazz                 57\n",
       "Jeep                  2\n",
       "Jetta                24\n",
       "KUV                  14\n",
       "KWID                 40\n",
       "Koleos                3\n",
       "Lancer                2\n",
       "Laura                29\n",
       "Linea                12\n",
       "Logan                 2\n",
       "M-Class              23\n",
       "MUX                   1\n",
       "Manza                16\n",
       "Micra                33\n",
       "Mobilio              16\n",
       "Montero               1\n",
       "Mustang               1\n",
       "Nano                 25\n",
       "New                 102\n",
       "Nexon                 3\n",
       "NuvoSport             3\n",
       "Octavia              31\n",
       "Omni                 13\n",
       "One                   3\n",
       "Optra                12\n",
       "Outlander             2\n",
       "Pajero               20\n",
       "Panamera              8\n",
       "Passat                8\n",
       "Petra                 1\n",
       "Platinum              1\n",
       "Polo                151\n",
       "Prius                 1\n",
       "Pulse                 5\n",
       "Punto                 2\n",
       "Q3                   27\n",
       "Q5                   30\n",
       "Q7                   38\n",
       "Qualis                4\n",
       "Quanto                5\n",
       "R-Class               4\n",
       "RS5                   2\n",
       "Rapid                47\n",
       "Redi                  1\n",
       "Renault               2\n",
       "Ritz                 64\n",
       "Rover Discovery      12\n",
       "Rover Freelander     17\n",
       "Rover Range          28\n",
       "S                    17\n",
       "S-Class               5\n",
       "S-Cross               3\n",
       "S60                   7\n",
       "S80                   2\n",
       "SL-Class              1\n",
       "SLC                   2\n",
       "SLK-Class             3\n",
       "SX4                  37\n",
       "Safari                9\n",
       "Sail                  8\n",
       "Santa                17\n",
       "Santro               71\n",
       "Scala                 5\n",
       "Scorpio              61\n",
       "Siena                 1\n",
       "Sonata                6\n",
       "Spark                10\n",
       "Ssangyong            13\n",
       "Sumo                  4\n",
       "Sunny                26\n",
       "Superb               49\n",
       "Swift               343\n",
       "TT                    3\n",
       "TUV                   9\n",
       "Teana                 2\n",
       "Terrano              26\n",
       "Thar                  6\n",
       "Tiago                11\n",
       "Tigor                 5\n",
       "Tiguan                1\n",
       "Tucson                4\n",
       "V40                   4\n",
       "Vento               107\n",
       "Verito                4\n",
       "Verna               170\n",
       "Vitara               43\n",
       "WR-V                  1\n",
       "WRV                   4\n",
       "Wagon               153\n",
       "X-Trail               3\n",
       "X1                   32\n",
       "X3                   14\n",
       "X5                   24\n",
       "X6                    6\n",
       "XC60                  6\n",
       "XC90                  2\n",
       "XE                    3\n",
       "XF                   30\n",
       "XJ                    6\n",
       "XUV300                1\n",
       "XUV500              113\n",
       "Xcent                59\n",
       "Xenon                 3\n",
       "Xylo                 21\n",
       "Yeti                  6\n",
       "Z4                    2\n",
       "Zen                  29\n",
       "Zest                 21\n",
       "i10                 156\n",
       "i20                 247\n",
       "redi-GO               6\n",
       "Name: Model, dtype: int64"
      ]
     },
     "execution_count": 24,
     "metadata": {},
     "output_type": "execute_result"
    }
   ],
   "source": [
    "pd.options.display.max_rows=300\n",
    "cars['Model'].value_counts().sort_index(ascending=True)"
   ]
  },
  {
   "cell_type": "markdown",
   "metadata": {},
   "source": [
    "- Model Ecosport is available twice in different cases ('Ecosport', 'EcoSport'). To avoid this being considered as 2 different models, correct to single format."
   ]
  },
  {
   "cell_type": "code",
   "execution_count": 25,
   "metadata": {},
   "outputs": [],
   "source": [
    "cars['Model'] = cars['Model'].str.replace('EcoSport', 'Ecosport')"
   ]
  },
  {
   "cell_type": "code",
   "execution_count": 26,
   "metadata": {
    "ExecuteTime": {
     "end_time": "2020-04-29T03:47:57.567741Z",
     "start_time": "2020-04-29T03:47:57.096586Z"
    }
   },
   "outputs": [
    {
     "data": {
      "image/png": "[encoded data removed]",
      "text/plain": [
       "<Figure size 864x504 with 1 Axes>"
      ]
     },
     "metadata": {
      "needs_background": "light"
     },
     "output_type": "display_data"
    }
   ],
   "source": [
    "plt.figure(figsize=(12,7))\n",
    "sns.countplot(y=(cars.Brand),palette='PuRd_r', order = cars.Brand.value_counts().index);"
   ]
  },
  {
   "cell_type": "code",
   "execution_count": 27,
   "metadata": {
    "ExecuteTime": {
     "end_time": "2020-04-29T03:47:58.360428Z",
     "start_time": "2020-04-29T03:47:58.016403Z"
    }
   },
   "outputs": [
    {
     "data": {
      "image/png": "[encoded data removed]",
      "text/plain": [
       "<Figure size 864x504 with 1 Axes>"
      ]
     },
     "metadata": {
      "needs_background": "light"
     },
     "output_type": "display_data"
    }
   ],
   "source": [
    "plt.figure(figsize=(12,7))\n",
    "sns.barplot(y=cars.Model.value_counts()[cars.Model.value_counts()>90].index,\n",
    "            x=cars.Model.value_counts()[cars.Model.value_counts()>90].values,palette='PuRd_r');"
   ]
  },
  {
   "cell_type": "markdown",
   "metadata": {},
   "source": [
    "- There is a car by the Model name 'New', let's check which car is it\n",
    "- There is a car by the Model name '3', let's check which car is it\n"
   ]
  },
  {
   "cell_type": "code",
   "execution_count": 28,
   "metadata": {
    "ExecuteTime": {
     "end_time": "2020-04-29T03:47:58.894660Z",
     "start_time": "2020-04-29T03:47:58.871502Z"
    }
   },
   "outputs": [
    {
     "data": {
      "text/html": [
       "<div>\n",
       "<style scoped>\n",
       "    .dataframe tbody tr th:only-of-type {\n",
       "        vertical-align: middle;\n",
       "    }\n",
       "\n",
       "    .dataframe tbody tr th {\n",
       "        vertical-align: top;\n",
       "    }\n",
       "\n",
       "    .dataframe thead th {\n",
       "        text-align: right;\n",
       "    }\n",
       "</style>\n",
       "<table border=\"1\" class=\"dataframe\">\n",
       "  <thead>\n",
       "    <tr style=\"text-align: right;\">\n",
       "      <th></th>\n",
       "      <th>Name</th>\n",
       "      <th>Location</th>\n",
       "      <th>Year</th>\n",
       "      <th>Kilometers_Driven</th>\n",
       "      <th>Fuel_Type</th>\n",
       "      <th>Transmission</th>\n",
       "      <th>Owner_Type</th>\n",
       "      <th>Mileage</th>\n",
       "      <th>Engine</th>\n",
       "      <th>Power</th>\n",
       "      <th>Colour</th>\n",
       "      <th>Seats</th>\n",
       "      <th>No. of Doors</th>\n",
       "      <th>Price</th>\n",
       "      <th>Brand</th>\n",
       "      <th>Model</th>\n",
       "    </tr>\n",
       "  </thead>\n",
       "  <tbody>\n",
       "    <tr>\n",
       "      <th>71</th>\n",
       "      <td>Mercedes-Benz New</td>\n",
       "      <td>Hyderabad</td>\n",
       "      <td>2012.0</td>\n",
       "      <td>86000.0</td>\n",
       "      <td>Diesel</td>\n",
       "      <td>Automatic</td>\n",
       "      <td>First</td>\n",
       "      <td>14.84</td>\n",
       "      <td>2143.0</td>\n",
       "      <td>170.0</td>\n",
       "      <td>White</td>\n",
       "      <td>5.0</td>\n",
       "      <td>4.0</td>\n",
       "      <td>19.0</td>\n",
       "      <td>Mercedes-Benz</td>\n",
       "      <td>New</td>\n",
       "    </tr>\n",
       "    <tr>\n",
       "      <th>279</th>\n",
       "      <td>Mercedes-Benz New</td>\n",
       "      <td>Jaipur</td>\n",
       "      <td>2009.0</td>\n",
       "      <td>116000.0</td>\n",
       "      <td>Diesel</td>\n",
       "      <td>Manual</td>\n",
       "      <td>Second</td>\n",
       "      <td>15.80</td>\n",
       "      <td>2148.0</td>\n",
       "      <td>170.0</td>\n",
       "      <td>White</td>\n",
       "      <td>5.0</td>\n",
       "      <td>4.0</td>\n",
       "      <td>8.5</td>\n",
       "      <td>Mercedes-Benz</td>\n",
       "      <td>New</td>\n",
       "    </tr>\n",
       "  </tbody>\n",
       "</table>\n",
       "</div>"
      ],
      "text/plain": [
       "                  Name   Location    Year  Kilometers_Driven Fuel_Type  \\\n",
       "71   Mercedes-Benz New  Hyderabad  2012.0            86000.0    Diesel   \n",
       "279  Mercedes-Benz New     Jaipur  2009.0           116000.0    Diesel   \n",
       "\n",
       "    Transmission Owner_Type  Mileage  Engine  Power Colour  Seats  \\\n",
       "71     Automatic      First    14.84  2143.0  170.0  White    5.0   \n",
       "279       Manual     Second    15.80  2148.0  170.0  White    5.0   \n",
       "\n",
       "     No. of Doors  Price          Brand Model  \n",
       "71            4.0   19.0  Mercedes-Benz   New  \n",
       "279           4.0    8.5  Mercedes-Benz   New  "
      ]
     },
     "execution_count": 28,
     "metadata": {},
     "output_type": "execute_result"
    }
   ],
   "source": [
    "cars[cars['Model']=='New'].head(2) # so it is a Mercedes Benz"
   ]
  },
  {
   "cell_type": "code",
   "execution_count": 29,
   "metadata": {
    "ExecuteTime": {
     "end_time": "2020-04-29T03:47:59.420971Z",
     "start_time": "2020-04-29T03:47:59.397737Z"
    },
    "scrolled": true
   },
   "outputs": [
    {
     "data": {
      "text/html": [
       "<div>\n",
       "<style scoped>\n",
       "    .dataframe tbody tr th:only-of-type {\n",
       "        vertical-align: middle;\n",
       "    }\n",
       "\n",
       "    .dataframe tbody tr th {\n",
       "        vertical-align: top;\n",
       "    }\n",
       "\n",
       "    .dataframe thead th {\n",
       "        text-align: right;\n",
       "    }\n",
       "</style>\n",
       "<table border=\"1\" class=\"dataframe\">\n",
       "  <thead>\n",
       "    <tr style=\"text-align: right;\">\n",
       "      <th></th>\n",
       "      <th>Name</th>\n",
       "      <th>Location</th>\n",
       "      <th>Year</th>\n",
       "      <th>Kilometers_Driven</th>\n",
       "      <th>Fuel_Type</th>\n",
       "      <th>Transmission</th>\n",
       "      <th>Owner_Type</th>\n",
       "      <th>Mileage</th>\n",
       "      <th>Engine</th>\n",
       "      <th>Power</th>\n",
       "      <th>Colour</th>\n",
       "      <th>Seats</th>\n",
       "      <th>No. of Doors</th>\n",
       "      <th>Price</th>\n",
       "      <th>Brand</th>\n",
       "      <th>Model</th>\n",
       "    </tr>\n",
       "  </thead>\n",
       "  <tbody>\n",
       "    <tr>\n",
       "      <th>22</th>\n",
       "      <td>BMW 3</td>\n",
       "      <td>Mumbai</td>\n",
       "      <td>2014.0</td>\n",
       "      <td>48000.0</td>\n",
       "      <td>Diesel</td>\n",
       "      <td>Automatic</td>\n",
       "      <td>First</td>\n",
       "      <td>21.76</td>\n",
       "      <td>1995.0</td>\n",
       "      <td>190.0</td>\n",
       "      <td>Others</td>\n",
       "      <td>5.0</td>\n",
       "      <td>4.0</td>\n",
       "      <td>26.5</td>\n",
       "      <td>BMW</td>\n",
       "      <td>3</td>\n",
       "    </tr>\n",
       "    <tr>\n",
       "      <th>35</th>\n",
       "      <td>BMW 3</td>\n",
       "      <td>Chennai</td>\n",
       "      <td>2009.0</td>\n",
       "      <td>137000.0</td>\n",
       "      <td>Diesel</td>\n",
       "      <td>Automatic</td>\n",
       "      <td>Second</td>\n",
       "      <td>13.20</td>\n",
       "      <td>1995.0</td>\n",
       "      <td>170.0</td>\n",
       "      <td>Others</td>\n",
       "      <td>5.0</td>\n",
       "      <td>4.0</td>\n",
       "      <td>9.0</td>\n",
       "      <td>BMW</td>\n",
       "      <td>3</td>\n",
       "    </tr>\n",
       "  </tbody>\n",
       "</table>\n",
       "</div>"
      ],
      "text/plain": [
       "     Name Location    Year  Kilometers_Driven Fuel_Type Transmission  \\\n",
       "22  BMW 3   Mumbai  2014.0            48000.0    Diesel    Automatic   \n",
       "35  BMW 3  Chennai  2009.0           137000.0    Diesel    Automatic   \n",
       "\n",
       "   Owner_Type  Mileage  Engine  Power  Colour  Seats  No. of Doors  Price  \\\n",
       "22      First    21.76  1995.0  190.0  Others    5.0           4.0   26.5   \n",
       "35     Second    13.20  1995.0  170.0  Others    5.0           4.0    9.0   \n",
       "\n",
       "   Brand Model  \n",
       "22   BMW     3  \n",
       "35   BMW     3  "
      ]
     },
     "execution_count": 29,
     "metadata": {},
     "output_type": "execute_result"
    }
   ],
   "source": [
    "cars[cars['Model']=='3'].head(2) # so it is a BMW"
   ]
  },
  {
   "cell_type": "markdown",
   "metadata": {},
   "source": [
    "**Bin the cars as per average Price of the Brand**\n",
    "- 'Budget_Friendly'\n",
    "- 'Medium_Range'\n",
    "- 'TopNotch_Cars'"
   ]
  },
  {
   "cell_type": "code",
   "execution_count": 30,
   "metadata": {
    "ExecuteTime": {
     "end_time": "2020-04-29T03:47:59.887570Z",
     "start_time": "2020-04-29T03:47:59.878071Z"
    }
   },
   "outputs": [
    {
     "data": {
      "text/plain": [
       "count    5959.000000\n",
       "mean        9.529916\n",
       "std        11.215743\n",
       "min         0.440000\n",
       "25%         3.500000\n",
       "50%         5.660000\n",
       "75%        10.000000\n",
       "max       160.000000\n",
       "Name: Price, dtype: float64"
      ]
     },
     "execution_count": 30,
     "metadata": {},
     "output_type": "execute_result"
    }
   ],
   "source": [
    "cars.Price.describe()"
   ]
  },
  {
   "cell_type": "code",
   "execution_count": 31,
   "metadata": {
    "ExecuteTime": {
     "end_time": "2020-04-29T03:48:00.488654Z",
     "start_time": "2020-04-29T03:48:00.435015Z"
    }
   },
   "outputs": [
    {
     "data": {
      "text/plain": [
       "Brand\n",
       "Lamborghini      120.000\n",
       "Bentley           59.000\n",
       "Porsche           47.020\n",
       "Land              35.000\n",
       "Jaguar            31.900\n",
       "Mini              24.285\n",
       "Mercedes-Benz     24.000\n",
       "Audi              23.500\n",
       "BMW               21.000\n",
       "Jeep              18.500\n",
       "Volvo             18.250\n",
       "Isuzu             16.090\n",
       "Toyota            10.760\n",
       "Mitsubishi         9.950\n",
       "Force              8.000\n",
       "Mahindra           7.570\n",
       "Skoda              6.000\n",
       "Renault            5.400\n",
       "Ford               5.345\n",
       "Honda              4.950\n",
       "Volkswagen         4.890\n",
       "Hyundai            4.650\n",
       "Nissan             4.300\n",
       "Maruti             4.200\n",
       "Datsun             3.100\n",
       "Smart              3.000\n",
       "Tata               2.900\n",
       "Fiat               2.600\n",
       "Chevrolet          2.480\n",
       "Name: Price, dtype: float64"
      ]
     },
     "execution_count": 31,
     "metadata": {},
     "output_type": "execute_result"
    }
   ],
   "source": [
    "#Binning the Car Companies based on avg prices of each car Company.\n",
    "#cars['Price'] = cars['Price']\n",
    "cars_2 = cars.copy()\n",
    "price_by_brand = cars_2.groupby(['Brand'])['Price'].median().sort_values(ascending = False)\n",
    "price_by_brand"
   ]
  },
  {
   "cell_type": "code",
   "execution_count": 32,
   "metadata": {},
   "outputs": [
    {
     "data": {
      "text/html": [
       "<div>\n",
       "<style scoped>\n",
       "    .dataframe tbody tr th:only-of-type {\n",
       "        vertical-align: middle;\n",
       "    }\n",
       "\n",
       "    .dataframe tbody tr th {\n",
       "        vertical-align: top;\n",
       "    }\n",
       "\n",
       "    .dataframe thead th {\n",
       "        text-align: right;\n",
       "    }\n",
       "</style>\n",
       "<table border=\"1\" class=\"dataframe\">\n",
       "  <thead>\n",
       "    <tr style=\"text-align: right;\">\n",
       "      <th></th>\n",
       "      <th>Name</th>\n",
       "      <th>Location</th>\n",
       "      <th>Year</th>\n",
       "      <th>Kilometers_Driven</th>\n",
       "      <th>Fuel_Type</th>\n",
       "      <th>Transmission</th>\n",
       "      <th>Owner_Type</th>\n",
       "      <th>Mileage</th>\n",
       "      <th>Engine</th>\n",
       "      <th>Power</th>\n",
       "      <th>Colour</th>\n",
       "      <th>Seats</th>\n",
       "      <th>No. of Doors</th>\n",
       "      <th>Price_x</th>\n",
       "      <th>Brand</th>\n",
       "      <th>Model</th>\n",
       "      <th>Price_y</th>\n",
       "    </tr>\n",
       "  </thead>\n",
       "  <tbody>\n",
       "    <tr>\n",
       "      <th>0</th>\n",
       "      <td>Mahindra Scorpio</td>\n",
       "      <td>Pune</td>\n",
       "      <td>2012.0</td>\n",
       "      <td>99000.0</td>\n",
       "      <td>Diesel</td>\n",
       "      <td>Manual</td>\n",
       "      <td>Third</td>\n",
       "      <td>12.05</td>\n",
       "      <td>2179.0</td>\n",
       "      <td>120.0</td>\n",
       "      <td>Black/Silver</td>\n",
       "      <td>8.0</td>\n",
       "      <td>5.0</td>\n",
       "      <td>6.00</td>\n",
       "      <td>Mahindra</td>\n",
       "      <td>Scorpio</td>\n",
       "      <td>7.57</td>\n",
       "    </tr>\n",
       "    <tr>\n",
       "      <th>1</th>\n",
       "      <td>Maruti Baleno</td>\n",
       "      <td>Kochi</td>\n",
       "      <td>2018.0</td>\n",
       "      <td>18678.0</td>\n",
       "      <td>Petrol</td>\n",
       "      <td>Manual</td>\n",
       "      <td>First</td>\n",
       "      <td>21.10</td>\n",
       "      <td>998.0</td>\n",
       "      <td>100.0</td>\n",
       "      <td>Others</td>\n",
       "      <td>5.0</td>\n",
       "      <td>4.0</td>\n",
       "      <td>8.32</td>\n",
       "      <td>Maruti</td>\n",
       "      <td>Baleno</td>\n",
       "      <td>4.20</td>\n",
       "    </tr>\n",
       "    <tr>\n",
       "      <th>2</th>\n",
       "      <td>Mahindra Xylo</td>\n",
       "      <td>Bangalore</td>\n",
       "      <td>2013.0</td>\n",
       "      <td>197000.0</td>\n",
       "      <td>Diesel</td>\n",
       "      <td>Manual</td>\n",
       "      <td>First</td>\n",
       "      <td>11.68</td>\n",
       "      <td>2498.0</td>\n",
       "      <td>112.0</td>\n",
       "      <td>White</td>\n",
       "      <td>7.0</td>\n",
       "      <td>5.0</td>\n",
       "      <td>4.00</td>\n",
       "      <td>Mahindra</td>\n",
       "      <td>Xylo</td>\n",
       "      <td>7.57</td>\n",
       "    </tr>\n",
       "    <tr>\n",
       "      <th>3</th>\n",
       "      <td>Hyundai Grand</td>\n",
       "      <td>Delhi</td>\n",
       "      <td>2014.0</td>\n",
       "      <td>45000.0</td>\n",
       "      <td>Diesel</td>\n",
       "      <td>Manual</td>\n",
       "      <td>First</td>\n",
       "      <td>24.00</td>\n",
       "      <td>1120.0</td>\n",
       "      <td>70.0</td>\n",
       "      <td>White</td>\n",
       "      <td>5.0</td>\n",
       "      <td>4.0</td>\n",
       "      <td>3.49</td>\n",
       "      <td>Hyundai</td>\n",
       "      <td>Grand</td>\n",
       "      <td>4.65</td>\n",
       "    </tr>\n",
       "    <tr>\n",
       "      <th>4</th>\n",
       "      <td>Toyota Innova</td>\n",
       "      <td>Delhi</td>\n",
       "      <td>2011.0</td>\n",
       "      <td>65000.0</td>\n",
       "      <td>Diesel</td>\n",
       "      <td>Manual</td>\n",
       "      <td>First</td>\n",
       "      <td>12.80</td>\n",
       "      <td>2494.0</td>\n",
       "      <td>102.0</td>\n",
       "      <td>Others</td>\n",
       "      <td>8.0</td>\n",
       "      <td>5.0</td>\n",
       "      <td>6.40</td>\n",
       "      <td>Toyota</td>\n",
       "      <td>Innova</td>\n",
       "      <td>10.76</td>\n",
       "    </tr>\n",
       "  </tbody>\n",
       "</table>\n",
       "</div>"
      ],
      "text/plain": [
       "               Name   Location    Year  Kilometers_Driven Fuel_Type  \\\n",
       "0  Mahindra Scorpio       Pune  2012.0            99000.0    Diesel   \n",
       "1     Maruti Baleno      Kochi  2018.0            18678.0    Petrol   \n",
       "2     Mahindra Xylo  Bangalore  2013.0           197000.0    Diesel   \n",
       "3     Hyundai Grand      Delhi  2014.0            45000.0    Diesel   \n",
       "4     Toyota Innova      Delhi  2011.0            65000.0    Diesel   \n",
       "\n",
       "  Transmission Owner_Type  Mileage  Engine  Power        Colour  Seats  \\\n",
       "0       Manual      Third    12.05  2179.0  120.0  Black/Silver    8.0   \n",
       "1       Manual      First    21.10   998.0  100.0        Others    5.0   \n",
       "2       Manual      First    11.68  2498.0  112.0         White    7.0   \n",
       "3       Manual      First    24.00  1120.0   70.0         White    5.0   \n",
       "4       Manual      First    12.80  2494.0  102.0        Others    8.0   \n",
       "\n",
       "   No. of Doors  Price_x     Brand    Model  Price_y  \n",
       "0           5.0     6.00  Mahindra  Scorpio     7.57  \n",
       "1           4.0     8.32    Maruti   Baleno     4.20  \n",
       "2           5.0     4.00  Mahindra     Xylo     7.57  \n",
       "3           4.0     3.49   Hyundai    Grand     4.65  \n",
       "4           5.0     6.40    Toyota   Innova    10.76  "
      ]
     },
     "execution_count": 32,
     "metadata": {},
     "output_type": "execute_result"
    }
   ],
   "source": [
    "cars_2 = cars_2.merge(price_by_brand, how='left',on='Brand')\n",
    "cars_2.head()"
   ]
  },
  {
   "cell_type": "code",
   "execution_count": 33,
   "metadata": {},
   "outputs": [],
   "source": [
    "#cars_2.to_csv('cars_2.csv')"
   ]
  },
  {
   "cell_type": "code",
   "execution_count": 34,
   "metadata": {},
   "outputs": [
    {
     "data": {
      "text/html": [
       "<div>\n",
       "<style scoped>\n",
       "    .dataframe tbody tr th:only-of-type {\n",
       "        vertical-align: middle;\n",
       "    }\n",
       "\n",
       "    .dataframe tbody tr th {\n",
       "        vertical-align: top;\n",
       "    }\n",
       "\n",
       "    .dataframe thead th {\n",
       "        text-align: right;\n",
       "    }\n",
       "</style>\n",
       "<table border=\"1\" class=\"dataframe\">\n",
       "  <thead>\n",
       "    <tr style=\"text-align: right;\">\n",
       "      <th></th>\n",
       "      <th>Name</th>\n",
       "      <th>Location</th>\n",
       "      <th>Year</th>\n",
       "      <th>Kilometers_Driven</th>\n",
       "      <th>Fuel_Type</th>\n",
       "      <th>Transmission</th>\n",
       "      <th>Owner_Type</th>\n",
       "      <th>Mileage</th>\n",
       "      <th>Engine</th>\n",
       "      <th>Power</th>\n",
       "      <th>Colour</th>\n",
       "      <th>Seats</th>\n",
       "      <th>No. of Doors</th>\n",
       "      <th>Price</th>\n",
       "      <th>Brand</th>\n",
       "      <th>Model</th>\n",
       "      <th>Cars_Category</th>\n",
       "    </tr>\n",
       "  </thead>\n",
       "  <tbody>\n",
       "    <tr>\n",
       "      <th>0</th>\n",
       "      <td>Mahindra Scorpio</td>\n",
       "      <td>Pune</td>\n",
       "      <td>2012.0</td>\n",
       "      <td>99000.0</td>\n",
       "      <td>Diesel</td>\n",
       "      <td>Manual</td>\n",
       "      <td>Third</td>\n",
       "      <td>12.05</td>\n",
       "      <td>2179.0</td>\n",
       "      <td>120.0</td>\n",
       "      <td>Black/Silver</td>\n",
       "      <td>8.0</td>\n",
       "      <td>5.0</td>\n",
       "      <td>6.00</td>\n",
       "      <td>Mahindra</td>\n",
       "      <td>Scorpio</td>\n",
       "      <td>Budget_Friendly</td>\n",
       "    </tr>\n",
       "    <tr>\n",
       "      <th>1</th>\n",
       "      <td>Maruti Baleno</td>\n",
       "      <td>Kochi</td>\n",
       "      <td>2018.0</td>\n",
       "      <td>18678.0</td>\n",
       "      <td>Petrol</td>\n",
       "      <td>Manual</td>\n",
       "      <td>First</td>\n",
       "      <td>21.10</td>\n",
       "      <td>998.0</td>\n",
       "      <td>100.0</td>\n",
       "      <td>Others</td>\n",
       "      <td>5.0</td>\n",
       "      <td>4.0</td>\n",
       "      <td>8.32</td>\n",
       "      <td>Maruti</td>\n",
       "      <td>Baleno</td>\n",
       "      <td>Budget_Friendly</td>\n",
       "    </tr>\n",
       "    <tr>\n",
       "      <th>2</th>\n",
       "      <td>Mahindra Xylo</td>\n",
       "      <td>Bangalore</td>\n",
       "      <td>2013.0</td>\n",
       "      <td>197000.0</td>\n",
       "      <td>Diesel</td>\n",
       "      <td>Manual</td>\n",
       "      <td>First</td>\n",
       "      <td>11.68</td>\n",
       "      <td>2498.0</td>\n",
       "      <td>112.0</td>\n",
       "      <td>White</td>\n",
       "      <td>7.0</td>\n",
       "      <td>5.0</td>\n",
       "      <td>4.00</td>\n",
       "      <td>Mahindra</td>\n",
       "      <td>Xylo</td>\n",
       "      <td>Budget_Friendly</td>\n",
       "    </tr>\n",
       "    <tr>\n",
       "      <th>3</th>\n",
       "      <td>Hyundai Grand</td>\n",
       "      <td>Delhi</td>\n",
       "      <td>2014.0</td>\n",
       "      <td>45000.0</td>\n",
       "      <td>Diesel</td>\n",
       "      <td>Manual</td>\n",
       "      <td>First</td>\n",
       "      <td>24.00</td>\n",
       "      <td>1120.0</td>\n",
       "      <td>70.0</td>\n",
       "      <td>White</td>\n",
       "      <td>5.0</td>\n",
       "      <td>4.0</td>\n",
       "      <td>3.49</td>\n",
       "      <td>Hyundai</td>\n",
       "      <td>Grand</td>\n",
       "      <td>Budget_Friendly</td>\n",
       "    </tr>\n",
       "    <tr>\n",
       "      <th>4</th>\n",
       "      <td>Toyota Innova</td>\n",
       "      <td>Delhi</td>\n",
       "      <td>2011.0</td>\n",
       "      <td>65000.0</td>\n",
       "      <td>Diesel</td>\n",
       "      <td>Manual</td>\n",
       "      <td>First</td>\n",
       "      <td>12.80</td>\n",
       "      <td>2494.0</td>\n",
       "      <td>102.0</td>\n",
       "      <td>Others</td>\n",
       "      <td>8.0</td>\n",
       "      <td>5.0</td>\n",
       "      <td>6.40</td>\n",
       "      <td>Toyota</td>\n",
       "      <td>Innova</td>\n",
       "      <td>Budget_Friendly</td>\n",
       "    </tr>\n",
       "  </tbody>\n",
       "</table>\n",
       "</div>"
      ],
      "text/plain": [
       "               Name   Location    Year  Kilometers_Driven Fuel_Type  \\\n",
       "0  Mahindra Scorpio       Pune  2012.0            99000.0    Diesel   \n",
       "1     Maruti Baleno      Kochi  2018.0            18678.0    Petrol   \n",
       "2     Mahindra Xylo  Bangalore  2013.0           197000.0    Diesel   \n",
       "3     Hyundai Grand      Delhi  2014.0            45000.0    Diesel   \n",
       "4     Toyota Innova      Delhi  2011.0            65000.0    Diesel   \n",
       "\n",
       "  Transmission Owner_Type  Mileage  Engine  Power        Colour  Seats  \\\n",
       "0       Manual      Third    12.05  2179.0  120.0  Black/Silver    8.0   \n",
       "1       Manual      First    21.10   998.0  100.0        Others    5.0   \n",
       "2       Manual      First    11.68  2498.0  112.0         White    7.0   \n",
       "3       Manual      First    24.00  1120.0   70.0         White    5.0   \n",
       "4       Manual      First    12.80  2494.0  102.0        Others    8.0   \n",
       "\n",
       "   No. of Doors  Price     Brand    Model    Cars_Category  \n",
       "0           5.0   6.00  Mahindra  Scorpio  Budget_Friendly  \n",
       "1           4.0   8.32    Maruti   Baleno  Budget_Friendly  \n",
       "2           5.0   4.00  Mahindra     Xylo  Budget_Friendly  \n",
       "3           4.0   3.49   Hyundai    Grand  Budget_Friendly  \n",
       "4           5.0   6.40    Toyota   Innova  Budget_Friendly  "
      ]
     },
     "execution_count": 34,
     "metadata": {},
     "output_type": "execute_result"
    }
   ],
   "source": [
    "bins = [0,10,20,160]\n",
    "label =['Budget_Friendly','Medium_Range','TopNotch_Cars']\n",
    "cars['Cars_Category'] = pd.cut(cars['Price'],bins ,right=True,labels=label)\n",
    "cars.head()"
   ]
  },
  {
   "cell_type": "code",
   "execution_count": 35,
   "metadata": {},
   "outputs": [],
   "source": [
    "#cars.to_csv(\"cars_mod.csv\")"
   ]
  },
  {
   "cell_type": "code",
   "execution_count": 36,
   "metadata": {},
   "outputs": [
    {
     "data": {
      "text/html": [
       "<div>\n",
       "<style scoped>\n",
       "    .dataframe tbody tr th:only-of-type {\n",
       "        vertical-align: middle;\n",
       "    }\n",
       "\n",
       "    .dataframe tbody tr th {\n",
       "        vertical-align: top;\n",
       "    }\n",
       "\n",
       "    .dataframe thead th {\n",
       "        text-align: right;\n",
       "    }\n",
       "</style>\n",
       "<table border=\"1\" class=\"dataframe\">\n",
       "  <thead>\n",
       "    <tr style=\"text-align: right;\">\n",
       "      <th></th>\n",
       "      <th>Name</th>\n",
       "      <th>Location</th>\n",
       "      <th>Year</th>\n",
       "      <th>Kilometers_Driven</th>\n",
       "      <th>Fuel_Type</th>\n",
       "      <th>Transmission</th>\n",
       "      <th>Owner_Type</th>\n",
       "      <th>Mileage</th>\n",
       "      <th>Engine</th>\n",
       "      <th>Power</th>\n",
       "      <th>Colour</th>\n",
       "      <th>Seats</th>\n",
       "      <th>No. of Doors</th>\n",
       "      <th>Price</th>\n",
       "      <th>Brand</th>\n",
       "      <th>Model</th>\n",
       "      <th>Cars_Category</th>\n",
       "    </tr>\n",
       "  </thead>\n",
       "  <tbody>\n",
       "    <tr>\n",
       "      <th>4106</th>\n",
       "      <td>Land Rover Range</td>\n",
       "      <td>Hyderabad</td>\n",
       "      <td>2017.0</td>\n",
       "      <td>25000.0</td>\n",
       "      <td>Diesel</td>\n",
       "      <td>Automatic</td>\n",
       "      <td>First</td>\n",
       "      <td>13.33</td>\n",
       "      <td>2993.0</td>\n",
       "      <td>255.0</td>\n",
       "      <td>White</td>\n",
       "      <td>5.0</td>\n",
       "      <td>4.0</td>\n",
       "      <td>160.0</td>\n",
       "      <td>Land</td>\n",
       "      <td>Rover Range</td>\n",
       "      <td>TopNotch_Cars</td>\n",
       "    </tr>\n",
       "  </tbody>\n",
       "</table>\n",
       "</div>"
      ],
      "text/plain": [
       "                  Name   Location    Year  Kilometers_Driven Fuel_Type  \\\n",
       "4106  Land Rover Range  Hyderabad  2017.0            25000.0    Diesel   \n",
       "\n",
       "     Transmission Owner_Type  Mileage  Engine  Power Colour  Seats  \\\n",
       "4106    Automatic      First    13.33  2993.0  255.0  White    5.0   \n",
       "\n",
       "      No. of Doors  Price Brand        Model  Cars_Category  \n",
       "4106           4.0  160.0  Land  Rover Range  TopNotch_Cars  "
      ]
     },
     "execution_count": 36,
     "metadata": {},
     "output_type": "execute_result"
    }
   ],
   "source": [
    "cars[cars.Price == 160]"
   ]
  },
  {
   "cell_type": "code",
   "execution_count": 37,
   "metadata": {
    "ExecuteTime": {
     "end_time": "2020-04-29T03:48:01.091258Z",
     "start_time": "2020-04-29T03:48:01.076195Z"
    }
   },
   "outputs": [
    {
     "data": {
      "text/plain": [
       "Budget_Friendly    4481\n",
       "Medium_Range        791\n",
       "TopNotch_Cars       687\n",
       "Name: Cars_Category, dtype: int64"
      ]
     },
     "execution_count": 37,
     "metadata": {},
     "output_type": "execute_result"
    }
   ],
   "source": [
    "cars.Cars_Category.value_counts()"
   ]
  },
  {
   "cell_type": "code",
   "execution_count": 38,
   "metadata": {},
   "outputs": [
    {
     "data": {
      "text/plain": [
       "Brand          Cars_Category  \n",
       "Audi           TopNotch_Cars       150\n",
       "               Medium_Range         71\n",
       "               Budget_Friendly      15\n",
       "BMW            TopNotch_Cars       139\n",
       "               Medium_Range        101\n",
       "               Budget_Friendly      27\n",
       "Bentley        TopNotch_Cars         1\n",
       "Chevrolet      Budget_Friendly     113\n",
       "Datsun         Budget_Friendly      13\n",
       "Fiat           Budget_Friendly      25\n",
       "Force          Budget_Friendly       2\n",
       "               Medium_Range          1\n",
       "Ford           Budget_Friendly     269\n",
       "               TopNotch_Cars        23\n",
       "               Medium_Range          6\n",
       "Honda          Budget_Friendly     568\n",
       "               Medium_Range         33\n",
       "Hyundai        Budget_Friendly     991\n",
       "               Medium_Range        104\n",
       "               TopNotch_Cars         5\n",
       "Isuzu          Medium_Range          2\n",
       "               Budget_Friendly       1\n",
       "Jaguar         TopNotch_Cars        37\n",
       "               Medium_Range          3\n",
       "Jeep           Medium_Range         13\n",
       "               TopNotch_Cars         2\n",
       "Lamborghini    TopNotch_Cars         1\n",
       "Land           TopNotch_Cars        44\n",
       "               Medium_Range         13\n",
       "Mahindra       Budget_Friendly     203\n",
       "               Medium_Range         69\n",
       "Maruti         Budget_Friendly    1177\n",
       "               Medium_Range         10\n",
       "Mercedes-Benz  TopNotch_Cars       186\n",
       "               Medium_Range        103\n",
       "               Budget_Friendly      29\n",
       "Mini           TopNotch_Cars        24\n",
       "               Medium_Range          2\n",
       "Mitsubishi     Budget_Friendly      14\n",
       "               Medium_Range         10\n",
       "               TopNotch_Cars         3\n",
       "Nissan         Budget_Friendly      91\n",
       "Porsche        TopNotch_Cars        16\n",
       "               Budget_Friendly       1\n",
       "               Medium_Range          1\n",
       "Renault        Budget_Friendly     136\n",
       "               Medium_Range          7\n",
       "Skoda          Budget_Friendly     134\n",
       "               Medium_Range         34\n",
       "               TopNotch_Cars         5\n",
       "Smart          Budget_Friendly       1\n",
       "Tata           Budget_Friendly     178\n",
       "               Medium_Range          6\n",
       "Toyota         Budget_Friendly     188\n",
       "               Medium_Range        180\n",
       "               TopNotch_Cars        42\n",
       "Volkswagen     Budget_Friendly     304\n",
       "               Medium_Range         10\n",
       "               TopNotch_Cars         1\n",
       "Volvo          Medium_Range         12\n",
       "               TopNotch_Cars         8\n",
       "               Budget_Friendly       1\n",
       "Name: Cars_Category, dtype: int64"
      ]
     },
     "execution_count": 38,
     "metadata": {},
     "output_type": "execute_result"
    }
   ],
   "source": [
    "cars.groupby(['Brand']).Cars_Category.value_counts()"
   ]
  },
  {
   "cell_type": "markdown",
   "metadata": {
    "ExecuteTime": {
     "end_time": "2020-04-17T09:18:54.214520Z",
     "start_time": "2020-04-17T09:18:54.209533Z"
    }
   },
   "source": [
    "**Create a new column 'CarAge'**\n",
    "\n",
    "Hint: Subtract Year by current year"
   ]
  },
  {
   "cell_type": "code",
   "execution_count": 39,
   "metadata": {
    "ExecuteTime": {
     "end_time": "2020-04-29T03:48:01.533467Z",
     "start_time": "2020-04-29T03:48:01.525518Z"
    }
   },
   "outputs": [],
   "source": [
    "import datetime\n",
    "now = datetime.datetime.now()\n",
    "now.year\n",
    "cars['CarAge']= now.year-cars.Year"
   ]
  },
  {
   "cell_type": "code",
   "execution_count": 40,
   "metadata": {
    "ExecuteTime": {
     "end_time": "2020-04-29T03:48:02.171772Z",
     "start_time": "2020-04-29T03:48:02.163146Z"
    }
   },
   "outputs": [
    {
     "data": {
      "text/plain": [
       "2.0     101\n",
       "3.0     298\n",
       "4.0     586\n",
       "5.0     739\n",
       "6.0     736\n",
       "7.0     793\n",
       "8.0     642\n",
       "9.0     573\n",
       "10.0    461\n",
       "11.0    338\n",
       "12.0    196\n",
       "13.0    170\n",
       "14.0    122\n",
       "15.0     75\n",
       "16.0     55\n",
       "17.0     28\n",
       "18.0     13\n",
       "19.0     14\n",
       "20.0      7\n",
       "21.0      4\n",
       "22.0      2\n",
       "23.0      4\n",
       "Name: CarAge, dtype: int64"
      ]
     },
     "execution_count": 40,
     "metadata": {},
     "output_type": "execute_result"
    }
   ],
   "source": [
    "cars.CarAge.value_counts().sort_index(ascending=True)"
   ]
  },
  {
   "cell_type": "markdown",
   "metadata": {},
   "source": [
    "**Check for Outliers**"
   ]
  },
  {
   "cell_type": "code",
   "execution_count": 41,
   "metadata": {
    "ExecuteTime": {
     "end_time": "2020-04-29T03:48:04.093577Z",
     "start_time": "2020-04-29T03:48:02.765100Z"
    }
   },
   "outputs": [
    {
     "name": "stdout",
     "output_type": "stream",
     "text": [
      "Shape before Outliers Treatment (5959, 18)\n"
     ]
    },
    {
     "data": {
      "image/png": "[encoded data removed]",
      "text/plain": [
       "<Figure size 1440x1440 with 5 Axes>"
      ]
     },
     "metadata": {
      "needs_background": "light"
     },
     "output_type": "display_data"
    }
   ],
   "source": [
    "data_plot=cars[['Kilometers_Driven', 'Mileage', 'Engine', 'Power','CarAge']]\n",
    "fig=plt.figure(figsize=(20,20))\n",
    "for i in range(0,len(data_plot.columns)):\n",
    "    ax=fig.add_subplot(3,2,i+1)\n",
    "    sns.boxplot(data_plot[data_plot.columns[i]])\n",
    "    plt.tight_layout()\n",
    "print('Shape before Outliers Treatment',cars.shape)"
   ]
  },
  {
   "cell_type": "markdown",
   "metadata": {},
   "source": [
    "**Seems like Kilometers_Driven, Power, Engine have many outliers**"
   ]
  },
  {
   "cell_type": "markdown",
   "metadata": {},
   "source": [
    "**Outliers Treatment**"
   ]
  },
  {
   "cell_type": "code",
   "execution_count": 42,
   "metadata": {
    "ExecuteTime": {
     "end_time": "2020-04-29T03:48:04.566766Z",
     "start_time": "2020-04-29T03:48:04.555017Z"
    }
   },
   "outputs": [],
   "source": [
    "Q1 = cars.quantile(0.25) # Getting First quantile for all numerical variables\n",
    "Q3 = cars.quantile(0.75) # Getting Second quantile for all numerical variables\n",
    "IQR = Q3 - Q1          # Getting IQR values\n",
    "lower_range= Q1-(1.5 * IQR) #Getting Lower Limit for all numerical variables\n",
    "upper_range= Q3+(1.5 * IQR) #Getting Upper Limit for all numerical variables"
   ]
  },
  {
   "cell_type": "code",
   "execution_count": 43,
   "metadata": {
    "ExecuteTime": {
     "end_time": "2020-04-29T03:48:05.176874Z",
     "start_time": "2020-04-29T03:48:05.165985Z"
    }
   },
   "outputs": [
    {
     "data": {
      "text/plain": [
       "Year                  2006.00\n",
       "Kilometers_Driven   -24586.25\n",
       "Mileage                  6.50\n",
       "Engine                  19.00\n",
       "Power                  -19.65\n",
       "Seats                    5.00\n",
       "No. of Doors             4.00\n",
       "Price                   -6.25\n",
       "CarAge                  -1.00\n",
       "dtype: float64"
      ]
     },
     "execution_count": 43,
     "metadata": {},
     "output_type": "execute_result"
    }
   ],
   "source": [
    "lower_range"
   ]
  },
  {
   "cell_type": "code",
   "execution_count": 44,
   "metadata": {
    "ExecuteTime": {
     "end_time": "2020-04-29T03:48:05.745846Z",
     "start_time": "2020-04-29T03:48:05.739532Z"
    }
   },
   "outputs": [
    {
     "data": {
      "text/plain": [
       "Year                   2022.00\n",
       "Kilometers_Driven    131551.75\n",
       "Mileage                  29.86\n",
       "Engine                 3163.00\n",
       "Power                   232.75\n",
       "Seats                     5.00\n",
       "No. of Doors              4.00\n",
       "Price                    19.75\n",
       "CarAge                   15.00\n",
       "dtype: float64"
      ]
     },
     "execution_count": 44,
     "metadata": {},
     "output_type": "execute_result"
    }
   ],
   "source": [
    "upper_range"
   ]
  },
  {
   "cell_type": "code",
   "execution_count": 45,
   "metadata": {
    "ExecuteTime": {
     "end_time": "2020-04-29T03:48:06.406018Z",
     "start_time": "2020-04-29T03:48:06.387356Z"
    }
   },
   "outputs": [],
   "source": [
    "cars['Kilometers_Driven']=np.where(cars['Kilometers_Driven']> 131551.75,131551.75,cars['Kilometers_Driven'])\n",
    "\n",
    "cars['Mileage']=np.where(cars['Mileage']> 29.86,29.86,cars['Mileage'])\n",
    "cars['Mileage']=np.where(cars['Mileage']< 6.5,6.5,cars['Mileage'])\n",
    "\n",
    "cars['Engine']=np.where(cars['Engine']> 3163.00,3163.00,cars['Engine'])\n",
    "\n",
    "cars['Power']=np.where(cars['Power']> 232.75,232.75,cars['Power'])\n",
    "\n",
    "cars['CarAge']=np.where(cars['CarAge']> 15,15,cars['CarAge'])"
   ]
  },
  {
   "cell_type": "code",
   "execution_count": 46,
   "metadata": {
    "ExecuteTime": {
     "end_time": "2020-04-29T03:48:08.203927Z",
     "start_time": "2020-04-29T03:48:07.050942Z"
    }
   },
   "outputs": [
    {
     "name": "stdout",
     "output_type": "stream",
     "text": [
      "Shape After Outliers Treatment (5959, 18)\n"
     ]
    },
    {
     "data": {
      "image/png": "[encoded data removed]",
      "text/plain": [
       "<Figure size 1440x1440 with 5 Axes>"
      ]
     },
     "metadata": {
      "needs_background": "light"
     },
     "output_type": "display_data"
    }
   ],
   "source": [
    "data_plot=cars[['Kilometers_Driven', 'Mileage', 'Engine', 'Power','CarAge']]\n",
    "fig=plt.figure(figsize=(20,20))\n",
    "for i in range(0,len(data_plot.columns)):\n",
    "    ax=fig.add_subplot(3,2,i+1)\n",
    "    sns.boxplot(data_plot[data_plot.columns[i]])\n",
    "    plt.tight_layout()\n",
    "\n",
    "print('Shape After Outliers Treatment',cars.shape)"
   ]
  },
  {
   "cell_type": "markdown",
   "metadata": {},
   "source": [
    "Since this was Outliers Treatment by imputing UL and LL in place of Outliers thus, the number of rows didn't change but had it been Outliers Removal, the number of rows would have changed"
   ]
  },
  {
   "cell_type": "markdown",
   "metadata": {},
   "source": [
    "**Null Values Imputation**"
   ]
  },
  {
   "cell_type": "code",
   "execution_count": 47,
   "metadata": {
    "ExecuteTime": {
     "end_time": "2020-04-29T03:48:09.942519Z",
     "start_time": "2020-04-29T03:48:09.927193Z"
    }
   },
   "outputs": [],
   "source": [
    "cols=cars.isnull().sum()[cars.isnull().sum()>0].index"
   ]
  },
  {
   "cell_type": "code",
   "execution_count": 48,
   "metadata": {},
   "outputs": [
    {
     "data": {
      "text/plain": [
       "Index(['Location', 'Year', 'Kilometers_Driven', 'Transmission', 'Owner_Type',\n",
       "       'Mileage', 'Engine', 'Power', 'Colour', 'Seats', 'No. of Doors',\n",
       "       'CarAge'],\n",
       "      dtype='object')"
      ]
     },
     "execution_count": 48,
     "metadata": {},
     "output_type": "execute_result"
    }
   ],
   "source": [
    "cols"
   ]
  },
  {
   "cell_type": "code",
   "execution_count": 49,
   "metadata": {
    "ExecuteTime": {
     "end_time": "2020-04-29T03:48:10.602273Z",
     "start_time": "2020-04-29T03:48:10.577408Z"
    }
   },
   "outputs": [],
   "source": [
    "objects=cars[cols].select_dtypes(include=['object','category']).columns\n",
    "non_objects=cars[cols].select_dtypes(exclude=['object','category']).columns"
   ]
  },
  {
   "cell_type": "markdown",
   "metadata": {},
   "source": [
    "**Simple Imputer**\n",
    "\n",
    "The SimpleImputer class provides basic strategies for imputing missing values. Missing values can be imputed with a provided constant value, or using the statistics (mean, median or most frequent) of each column in which the missing values are located. This class also allows for different missing values encodings.\n",
    "\n",
    "\n",
    "<a href='https://scikit-learn.org/stable/modules/impute.html#impute'>scikit-learn</a>"
   ]
  },
  {
   "cell_type": "markdown",
   "metadata": {},
   "source": [
    "**Impute the Non-Object values using Median**"
   ]
  },
  {
   "cell_type": "code",
   "execution_count": 50,
   "metadata": {
    "ExecuteTime": {
     "end_time": "2020-04-29T03:48:11.247316Z",
     "start_time": "2020-04-29T03:48:11.231815Z"
    }
   },
   "outputs": [],
   "source": [
    "#you can use any other method as well\n",
    "from sklearn.impute import SimpleImputer\n",
    "imputer = SimpleImputer(missing_values = np.nan, strategy = 'median',verbose=0)\n",
    "imputer= imputer.fit(cars[non_objects])#.iloc[:,:])"
   ]
  },
  {
   "cell_type": "code",
   "execution_count": 51,
   "metadata": {
    "ExecuteTime": {
     "end_time": "2020-04-29T03:48:11.859927Z",
     "start_time": "2020-04-29T03:48:11.844458Z"
    }
   },
   "outputs": [],
   "source": [
    "cars[non_objects]=imputer.transform(cars[non_objects])"
   ]
  },
  {
   "cell_type": "markdown",
   "metadata": {},
   "source": [
    "**Impute the Object values using Mode**"
   ]
  },
  {
   "cell_type": "code",
   "execution_count": 52,
   "metadata": {
    "ExecuteTime": {
     "end_time": "2020-04-29T03:48:12.711729Z",
     "start_time": "2020-04-29T03:48:12.658825Z"
    }
   },
   "outputs": [],
   "source": [
    "imputer = SimpleImputer(missing_values = np.nan, strategy = 'most_frequent',verbose=0)\n",
    "imputer= imputer.fit(cars[objects])#.iloc[:,:])"
   ]
  },
  {
   "cell_type": "code",
   "execution_count": 53,
   "metadata": {
    "ExecuteTime": {
     "end_time": "2020-04-29T03:48:13.362597Z",
     "start_time": "2020-04-29T03:48:13.348527Z"
    }
   },
   "outputs": [],
   "source": [
    "cars[objects]=imputer.transform(cars[objects])"
   ]
  },
  {
   "cell_type": "code",
   "execution_count": 54,
   "metadata": {
    "ExecuteTime": {
     "end_time": "2020-04-29T03:48:13.994943Z",
     "start_time": "2020-04-29T03:48:13.978890Z"
    }
   },
   "outputs": [
    {
     "data": {
      "text/plain": [
       "Name                 0\n",
       "Location             0\n",
       "Year                 0\n",
       "Kilometers_Driven    0\n",
       "Fuel_Type            0\n",
       "Transmission         0\n",
       "Owner_Type           0\n",
       "Mileage              0\n",
       "Engine               0\n",
       "Power                0\n",
       "Colour               0\n",
       "Seats                0\n",
       "No. of Doors         0\n",
       "Price                0\n",
       "Brand                0\n",
       "Model                0\n",
       "Cars_Category        0\n",
       "CarAge               0\n",
       "dtype: int64"
      ]
     },
     "execution_count": 54,
     "metadata": {},
     "output_type": "execute_result"
    }
   ],
   "source": [
    "cars.isnull().sum()"
   ]
  },
  {
   "cell_type": "markdown",
   "metadata": {},
   "source": [
    "**There are no Null values now**"
   ]
  },
  {
   "cell_type": "markdown",
   "metadata": {},
   "source": [
    "**Correlation Plot**"
   ]
  },
  {
   "cell_type": "code",
   "execution_count": 55,
   "metadata": {},
   "outputs": [
    {
     "data": {
      "text/plain": [
       "<AxesSubplot:>"
      ]
     },
     "execution_count": 55,
     "metadata": {},
     "output_type": "execute_result"
    },
    {
     "data": {
      "image/png": "[encoded data removed]",
      "text/plain": [
       "<Figure size 864x504 with 2 Axes>"
      ]
     },
     "metadata": {
      "needs_background": "light"
     },
     "output_type": "display_data"
    }
   ],
   "source": [
    "X=cars.drop(['Price','Name','Year'],axis=1)\n",
    "\n",
    "plt.figure(figsize=(12,7))\n",
    "sns.heatmap(X.corr(),annot=True)"
   ]
  },
  {
   "cell_type": "markdown",
   "metadata": {},
   "source": [
    "- Engine & Power, Seats & No.of Doors -> highly correlated\n",
    "- For algorithms that are affected by correlation in independent variables, drop one of the variables in that set (Say: Engine and No. of Doors)"
   ]
  },
  {
   "cell_type": "markdown",
   "metadata": {},
   "source": [
    "**Encode the Data**"
   ]
  },
  {
   "cell_type": "code",
   "execution_count": 56,
   "metadata": {
    "ExecuteTime": {
     "end_time": "2020-04-29T03:48:14.659739Z",
     "start_time": "2020-04-29T03:48:14.631767Z"
    }
   },
   "outputs": [
    {
     "data": {
      "text/html": [
       "<div>\n",
       "<style scoped>\n",
       "    .dataframe tbody tr th:only-of-type {\n",
       "        vertical-align: middle;\n",
       "    }\n",
       "\n",
       "    .dataframe tbody tr th {\n",
       "        vertical-align: top;\n",
       "    }\n",
       "\n",
       "    .dataframe thead th {\n",
       "        text-align: right;\n",
       "    }\n",
       "</style>\n",
       "<table border=\"1\" class=\"dataframe\">\n",
       "  <thead>\n",
       "    <tr style=\"text-align: right;\">\n",
       "      <th></th>\n",
       "      <th>Name</th>\n",
       "      <th>Location</th>\n",
       "      <th>Fuel_Type</th>\n",
       "      <th>Transmission</th>\n",
       "      <th>Owner_Type</th>\n",
       "      <th>Colour</th>\n",
       "      <th>Brand</th>\n",
       "      <th>Model</th>\n",
       "    </tr>\n",
       "  </thead>\n",
       "  <tbody>\n",
       "    <tr>\n",
       "      <th>0</th>\n",
       "      <td>Mahindra Scorpio</td>\n",
       "      <td>Pune</td>\n",
       "      <td>Diesel</td>\n",
       "      <td>Manual</td>\n",
       "      <td>Third</td>\n",
       "      <td>Black/Silver</td>\n",
       "      <td>Mahindra</td>\n",
       "      <td>Scorpio</td>\n",
       "    </tr>\n",
       "    <tr>\n",
       "      <th>1</th>\n",
       "      <td>Maruti Baleno</td>\n",
       "      <td>Kochi</td>\n",
       "      <td>Petrol</td>\n",
       "      <td>Manual</td>\n",
       "      <td>First</td>\n",
       "      <td>Others</td>\n",
       "      <td>Maruti</td>\n",
       "      <td>Baleno</td>\n",
       "    </tr>\n",
       "    <tr>\n",
       "      <th>2</th>\n",
       "      <td>Mahindra Xylo</td>\n",
       "      <td>Bangalore</td>\n",
       "      <td>Diesel</td>\n",
       "      <td>Manual</td>\n",
       "      <td>First</td>\n",
       "      <td>White</td>\n",
       "      <td>Mahindra</td>\n",
       "      <td>Xylo</td>\n",
       "    </tr>\n",
       "    <tr>\n",
       "      <th>3</th>\n",
       "      <td>Hyundai Grand</td>\n",
       "      <td>Delhi</td>\n",
       "      <td>Diesel</td>\n",
       "      <td>Manual</td>\n",
       "      <td>First</td>\n",
       "      <td>White</td>\n",
       "      <td>Hyundai</td>\n",
       "      <td>Grand</td>\n",
       "    </tr>\n",
       "    <tr>\n",
       "      <th>4</th>\n",
       "      <td>Toyota Innova</td>\n",
       "      <td>Delhi</td>\n",
       "      <td>Diesel</td>\n",
       "      <td>Manual</td>\n",
       "      <td>First</td>\n",
       "      <td>Others</td>\n",
       "      <td>Toyota</td>\n",
       "      <td>Innova</td>\n",
       "    </tr>\n",
       "  </tbody>\n",
       "</table>\n",
       "</div>"
      ],
      "text/plain": [
       "               Name   Location Fuel_Type Transmission Owner_Type  \\\n",
       "0  Mahindra Scorpio       Pune    Diesel       Manual      Third   \n",
       "1     Maruti Baleno      Kochi    Petrol       Manual      First   \n",
       "2     Mahindra Xylo  Bangalore    Diesel       Manual      First   \n",
       "3     Hyundai Grand      Delhi    Diesel       Manual      First   \n",
       "4     Toyota Innova      Delhi    Diesel       Manual      First   \n",
       "\n",
       "         Colour     Brand    Model  \n",
       "0  Black/Silver  Mahindra  Scorpio  \n",
       "1        Others    Maruti   Baleno  \n",
       "2         White  Mahindra     Xylo  \n",
       "3         White   Hyundai    Grand  \n",
       "4        Others    Toyota   Innova  "
      ]
     },
     "execution_count": 56,
     "metadata": {},
     "output_type": "execute_result"
    }
   ],
   "source": [
    "cars.select_dtypes(include='object').head()"
   ]
  },
  {
   "cell_type": "markdown",
   "metadata": {},
   "source": [
    "There are two types of categorical data \n",
    "- Ordinal: Order based like 'good','bad','worst' or Clothing sizes\n",
    "- Nominal: Without any order or ranks like city names, Genders, etc\n",
    "\n",
    "Here, for now let us convert these into Categorical using pd.Categories to avoid high dimensionality because of OHE(get_dummies)\n",
    "\n",
    "You are free to use any encoding technique as long as it works.\n",
    "\n",
    "Also, rememeber that on Official Site of Scikit-learn's Label Encoder it is mentioned that \"This transformer should be used to encode target values, i.e. y, and not the input X.\" \n",
    "<a href=\"https://scikit-learn.org/stable/modules/generated/sklearn.preprocessing.LabelEncoder.html\">Link</a>"
   ]
  },
  {
   "cell_type": "code",
   "execution_count": 57,
   "metadata": {},
   "outputs": [],
   "source": [
    "cars.Owner_Type = cars.Owner_Type.replace({'First': 3, 'Second': 2, 'Third': 1, 'Fourth & Above': 0})"
   ]
  },
  {
   "cell_type": "code",
   "execution_count": 58,
   "metadata": {
    "ExecuteTime": {
     "end_time": "2020-04-29T03:48:15.408098Z",
     "start_time": "2020-04-29T03:48:15.382911Z"
    }
   },
   "outputs": [],
   "source": [
    "for feature in cars.columns: \n",
    "    if cars[feature].dtype == 'object':\n",
    "        cars[feature] = pd.Categorical(cars[feature]).codes\n",
    "\n",
    "        cars.Cars_Category=pd.Categorical(cars.Cars_Category).codes"
   ]
  },
  {
   "cell_type": "code",
   "execution_count": 59,
   "metadata": {
    "ExecuteTime": {
     "end_time": "2020-04-29T03:51:04.352017Z",
     "start_time": "2020-04-29T03:51:04.343100Z"
    }
   },
   "outputs": [
    {
     "data": {
      "text/plain": [
       "Name                   int16\n",
       "Location                int8\n",
       "Year                 float64\n",
       "Kilometers_Driven    float64\n",
       "Fuel_Type               int8\n",
       "Transmission            int8\n",
       "Owner_Type             int64\n",
       "Mileage              float64\n",
       "Engine               float64\n",
       "Power                float64\n",
       "Colour                  int8\n",
       "Seats                float64\n",
       "No. of Doors         float64\n",
       "Price                float64\n",
       "Brand                   int8\n",
       "Model                  int16\n",
       "Cars_Category           int8\n",
       "CarAge               float64\n",
       "dtype: object"
      ]
     },
     "execution_count": 59,
     "metadata": {},
     "output_type": "execute_result"
    }
   ],
   "source": [
    "cars.dtypes"
   ]
  },
  {
   "cell_type": "code",
   "execution_count": 60,
   "metadata": {},
   "outputs": [
    {
     "data": {
      "text/plain": [
       "3    4888\n",
       "2     953\n",
       "1     110\n",
       "0       8\n",
       "Name: Owner_Type, dtype: int64"
      ]
     },
     "execution_count": 60,
     "metadata": {},
     "output_type": "execute_result"
    }
   ],
   "source": [
    "cars.Owner_Type.value_counts()"
   ]
  },
  {
   "cell_type": "markdown",
   "metadata": {},
   "source": [
    "**Split the Data**"
   ]
  },
  {
   "cell_type": "code",
   "execution_count": 61,
   "metadata": {
    "ExecuteTime": {
     "end_time": "2020-04-29T03:52:37.483986Z",
     "start_time": "2020-04-29T03:52:37.472998Z"
    }
   },
   "outputs": [],
   "source": [
    "x=cars.drop(['Price','Name','Year'],axis=1) #name is splitted in Model and Brand; Year is transformed to CarAge\n",
    "y=cars.Price"
   ]
  },
  {
   "cell_type": "code",
   "execution_count": 62,
   "metadata": {
    "ExecuteTime": {
     "end_time": "2020-04-29T03:52:38.073663Z",
     "start_time": "2020-04-29T03:52:38.060467Z"
    }
   },
   "outputs": [],
   "source": [
    "x_train,x_test,y_train,y_test=train_test_split(x,y,random_state=123,test_size=0.30)"
   ]
  },
  {
   "cell_type": "code",
   "execution_count": 63,
   "metadata": {
    "ExecuteTime": {
     "end_time": "2020-04-29T03:52:39.150022Z",
     "start_time": "2020-04-29T03:52:39.128144Z"
    }
   },
   "outputs": [],
   "source": [
    "ss=StandardScaler() \n",
    "# we are scaling the data for ANN. Without scaling it will give very poor results. Computations becomes easier\n",
    "x_train_scaled=ss.fit_transform(x_train)\n",
    "x_test_scaled=ss.transform(x_test)"
   ]
  },
  {
   "cell_type": "markdown",
   "metadata": {},
   "source": [
    "**Make 4 models using ANN, Decision Tree, Random Forest, and Linear Regression**\n",
    "\n",
    "- Check Train and Test RMSE\n",
    "- Check Train and Test Scores"
   ]
  },
  {
   "cell_type": "code",
   "execution_count": 64,
   "metadata": {
    "ExecuteTime": {
     "end_time": "2020-04-29T04:27:18.506641Z",
     "start_time": "2020-04-29T04:26:35.721146Z"
    }
   },
   "outputs": [
    {
     "name": "stdout",
     "output_type": "stream",
     "text": [
      "                         Train RMSE  Test RMSE  Training Score  Test Score\n",
      "Linear Regression          5.194196   5.108073        0.785221    0.793113\n",
      "Decision Tree Regressor    0.019624   4.203868        0.999997    0.859875\n",
      "Random Forest Regressor    1.143987   3.349651        0.989582    0.911035\n",
      "ANN Regressor              2.182569   3.758459        0.962078    0.887995\n"
     ]
    }
   ],
   "source": [
    "annr = MLPRegressor(hidden_layer_sizes=(500),random_state=123, max_iter=10000)#you are free to tweak the layer sizes\n",
    "rfr = RandomForestRegressor(random_state=123)\n",
    "dtr = tree.DecisionTreeRegressor(random_state=123)\n",
    "regression_model = LinearRegression()\n",
    "\n",
    "models=[regression_model,dtr,rfr,annr]\n",
    "\n",
    "rmse_train=[]\n",
    "rmse_test=[]\n",
    "scores_train=[]\n",
    "scores_test=[]\n",
    "\n",
    "for i in models:  # we are scaling the data for ANN. Without scaling it will give very poor results. Computations becomes easier\n",
    "    \n",
    "    if (i != annr) :\n",
    "        i.fit(x_train,y_train)\n",
    "        scores_train.append(i.score(x_train, y_train))\n",
    "        scores_test.append(i.score(x_test, y_test))\n",
    "        rmse_train.append(np.sqrt(mean_squared_error(y_train,i.predict(x_train))))\n",
    "        rmse_test.append(np.sqrt(mean_squared_error(y_test,i.predict(x_test))))\n",
    " \n",
    "    else :\n",
    "        i.fit(x_train_scaled,y_train)\n",
    "        scores_train.append(i.score(x_train_scaled, y_train))\n",
    "        scores_test.append(i.score(x_test_scaled, y_test))\n",
    "        rmse_train.append(np.sqrt(mean_squared_error(y_train,i.predict(x_train_scaled))))\n",
    "        rmse_test.append(np.sqrt(mean_squared_error(y_test,i.predict(x_test_scaled))))\n",
    "        \n",
    "print(pd.DataFrame({'Train RMSE': rmse_train,'Test RMSE': rmse_test,'Training Score':scores_train,'Test Score': scores_test},\n",
    "            index=['Linear Regression','Decision Tree Regressor','Random Forest Regressor', 'ANN Regressor']))"
   ]
  },
  {
   "cell_type": "markdown",
   "metadata": {},
   "source": [
    "**Looks Like ANN, DT, and RF are over-fitting, Let's Grid Search to get the best parameters**"
   ]
  },
  {
   "cell_type": "markdown",
   "metadata": {},
   "source": [
    "**You can also visualise the tree and see where to prune it and decide the max_depth and other parameters**\n",
    "\n",
    "\n",
    "**Grid Search on Decision Tree**"
   ]
  },
  {
   "cell_type": "code",
   "execution_count": 65,
   "metadata": {
    "ExecuteTime": {
     "end_time": "2020-04-29T04:29:40.294458Z",
     "start_time": "2020-04-29T04:29:36.654288Z"
    }
   },
   "outputs": [
    {
     "name": "stdout",
     "output_type": "stream",
     "text": [
      "{'max_depth': 15, 'min_samples_leaf': 3, 'min_samples_split': 30}\n"
     ]
    }
   ],
   "source": [
    "param_grid = {\n",
    "    'max_depth': [10,15,20,25,30],# 3,5,7,9\n",
    "    'min_samples_leaf': [3,15,30], # 1-3% TRAIN DATA\n",
    "    'min_samples_split': [15,30,35,40,50],#3X min sample split\n",
    "}\n",
    "\n",
    "dtr=tree.DecisionTreeRegressor(random_state=123)\n",
    "\n",
    "grid_search = GridSearchCV(estimator = dtr, param_grid = param_grid, cv = 3)\n",
    "\n",
    "\n",
    "grid_search.fit(x_train,y_train)\n",
    "\n",
    "print(grid_search.best_params_)\n"
   ]
  },
  {
   "cell_type": "markdown",
   "metadata": {},
   "source": [
    "Let us take Max_depth as 10, min_samples_leaf as 15 and Min_sample_split as 15. You are welcome to try other values as well."
   ]
  },
  {
   "cell_type": "markdown",
   "metadata": {},
   "source": [
    "**Using Grid Search for Random Forest**"
   ]
  },
  {
   "cell_type": "code",
   "execution_count": 66,
   "metadata": {
    "ExecuteTime": {
     "end_time": "2020-04-29T04:29:51.709294Z",
     "start_time": "2020-04-29T04:29:51.633492Z"
    }
   },
   "outputs": [],
   "source": [
    "param_grid = {\n",
    "    'max_depth': [7,10],\n",
    "    'max_features': [4, 6],#Sq root of the no. of ind features\n",
    "    'min_samples_leaf': [3, 15,30],\n",
    "    'min_samples_split': [30, 50,100],\n",
    "    'n_estimators': [300, 500] # Oob error rate\n",
    "}\n",
    "\n",
    "rfr = RandomForestRegressor(random_state=123)\n",
    "\n",
    "grid_search = GridSearchCV(estimator = rfr, param_grid = param_grid, cv = 3)"
   ]
  },
  {
   "cell_type": "code",
   "execution_count": 67,
   "metadata": {
    "ExecuteTime": {
     "end_time": "2020-04-29T04:33:33.930121Z",
     "start_time": "2020-04-29T04:29:52.064470Z"
    },
    "scrolled": false
   },
   "outputs": [
    {
     "data": {
      "text/plain": [
       "GridSearchCV(cv=3, estimator=RandomForestRegressor(random_state=123),\n",
       "             param_grid={'max_depth': [7, 10], 'max_features': [4, 6],\n",
       "                         'min_samples_leaf': [3, 15, 30],\n",
       "                         'min_samples_split': [30, 50, 100],\n",
       "                         'n_estimators': [300, 500]})"
      ]
     },
     "execution_count": 67,
     "metadata": {},
     "output_type": "execute_result"
    }
   ],
   "source": [
    "grid_search.fit(x_train,y_train)"
   ]
  },
  {
   "cell_type": "code",
   "execution_count": 68,
   "metadata": {
    "ExecuteTime": {
     "end_time": "2020-04-29T04:33:34.293396Z",
     "start_time": "2020-04-29T04:33:34.289406Z"
    }
   },
   "outputs": [
    {
     "name": "stdout",
     "output_type": "stream",
     "text": [
      "{'max_depth': 10, 'max_features': 6, 'min_samples_leaf': 3, 'min_samples_split': 30, 'n_estimators': 500}\n"
     ]
    }
   ],
   "source": [
    "print(grid_search.best_params_)"
   ]
  },
  {
   "cell_type": "code",
   "execution_count": 69,
   "metadata": {
    "ExecuteTime": {
     "end_time": "2020-04-29T04:33:34.652129Z",
     "start_time": "2020-04-29T04:33:34.648109Z"
    }
   },
   "outputs": [],
   "source": [
    "#best_params_rfr={'max_depth': 10, 'max_features': 6, 'min_samples_leaf': 3, 'min_samples_split': 30, 'n_estimators': 500}"
   ]
  },
  {
   "cell_type": "markdown",
   "metadata": {},
   "source": [
    "**Using Grid Search for ANN**"
   ]
  },
  {
   "cell_type": "code",
   "execution_count": 70,
   "metadata": {
    "ExecuteTime": {
     "end_time": "2020-04-29T04:33:35.013133Z",
     "start_time": "2020-04-29T04:33:35.008148Z"
    }
   },
   "outputs": [],
   "source": [
    "param_grid = {\n",
    "    'hidden_layer_sizes':[500,(100,100)], #Nobs_train/a(Nvar)\n",
    "    # keeping these simple because it would take too much time to run on low-end computers\n",
    "    \"activation\": [\"tanh\", \"relu\"], \n",
    "    \"solver\": [\"sgd\", \"adam\"]}\n",
    "\n",
    "annr = MLPRegressor(max_iter=10000, random_state=123)\n",
    "\n",
    "grid_search = GridSearchCV(estimator = annr, param_grid = param_grid, cv = 3)"
   ]
  },
  {
   "cell_type": "code",
   "execution_count": 71,
   "metadata": {
    "ExecuteTime": {
     "end_time": "2020-04-29T04:43:32.555222Z",
     "start_time": "2020-04-29T04:33:35.503209Z"
    }
   },
   "outputs": [
    {
     "data": {
      "text/plain": [
       "GridSearchCV(cv=3, estimator=MLPRegressor(max_iter=10000, random_state=123),\n",
       "             param_grid={'activation': ['tanh', 'relu'],\n",
       "                         'hidden_layer_sizes': [500, (100, 100)],\n",
       "                         'solver': ['sgd', 'adam']})"
      ]
     },
     "execution_count": 71,
     "metadata": {},
     "output_type": "execute_result"
    }
   ],
   "source": [
    "grid_search.fit(x_train_scaled,y_train)"
   ]
  },
  {
   "cell_type": "code",
   "execution_count": 72,
   "metadata": {
    "ExecuteTime": {
     "end_time": "2020-04-29T04:43:32.978188Z",
     "start_time": "2020-04-29T04:43:32.974198Z"
    }
   },
   "outputs": [
    {
     "name": "stdout",
     "output_type": "stream",
     "text": [
      "{'activation': 'relu', 'hidden_layer_sizes': 500, 'solver': 'sgd'}\n"
     ]
    }
   ],
   "source": [
    "print(grid_search.best_params_)"
   ]
  },
  {
   "cell_type": "code",
   "execution_count": 73,
   "metadata": {
    "ExecuteTime": {
     "end_time": "2020-04-29T04:43:33.343180Z",
     "start_time": "2020-04-29T04:43:33.339192Z"
    }
   },
   "outputs": [],
   "source": [
    "#best_params_annr={'activation': 'relu', 'hidden_layer_sizes': 500, 'solver': 'sgd'}"
   ]
  },
  {
   "cell_type": "code",
   "execution_count": 74,
   "metadata": {
    "ExecuteTime": {
     "end_time": "2020-04-29T04:44:17.242306Z",
     "start_time": "2020-04-29T04:43:33.701907Z"
    },
    "scrolled": true
   },
   "outputs": [
    {
     "name": "stdout",
     "output_type": "stream",
     "text": [
      "                         Train RMSE  Test RMSE  Training Score  Test Score\n",
      "Linear Regression          5.194196   5.108073        0.785221    0.793113\n",
      "Decision Tree Regressor    3.266113   4.123359        0.915079    0.865190\n",
      "Random Forest Regressor    3.070783   3.644357        0.924932    0.894692\n",
      "ANN Regressor              2.624487   3.759301        0.945167    0.887945\n"
     ]
    }
   ],
   "source": [
    "annr = MLPRegressor(activation='relu', hidden_layer_sizes=(500), \n",
    "                    solver='sgd',random_state=123, \n",
    "                    max_iter=10000)\n",
    "rfr = RandomForestRegressor(max_depth=10, max_features=6, \n",
    "                            min_samples_leaf= 3,\n",
    "                            min_samples_split= 30, n_estimators= 500,\n",
    "                            random_state=123)\n",
    "dtr = tree.DecisionTreeRegressor(max_depth=10,min_samples_split=15,min_samples_leaf=15,random_state=123)\n",
    "regression_model = LinearRegression()\n",
    "\n",
    "models=[regression_model,dtr,rfr,annr]\n",
    "\n",
    "rmse_train=[]\n",
    "rmse_test=[]\n",
    "scores_train=[]\n",
    "scores_test=[]\n",
    "\n",
    "\n",
    "for i in models:\n",
    "    if (i != annr):\n",
    "        i.fit(x_train,y_train)\n",
    "        scores_train.append(i.score(x_train, y_train))\n",
    "        scores_test.append(i.score(x_test, y_test))\n",
    "        rmse_train.append(np.sqrt(mean_squared_error(y_train,i.predict(x_train))))\n",
    "        rmse_test.append(np.sqrt(mean_squared_error(y_test,i.predict(x_test))))\n",
    "        \n",
    "    else :\n",
    "        i.fit(x_train_scaled,y_train)\n",
    "        scores_train.append(i.score(x_train_scaled, y_train))\n",
    "        scores_test.append(i.score(x_test_scaled, y_test))\n",
    "        rmse_train.append(np.sqrt(mean_squared_error(y_train,i.predict(x_train_scaled))))\n",
    "        rmse_test.append(np.sqrt(mean_squared_error(y_test,i.predict(x_test_scaled))))\n",
    "        \n",
    "        \n",
    "print(pd.DataFrame({'Train RMSE': rmse_train,'Test RMSE': rmse_test,'Training Score':scores_train,'Test Score': scores_test},\n",
    "            index=['Linear Regression','Decision Tree Regressor','Random Forest Regressor', 'ANN Regressor']))"
   ]
  },
  {
   "cell_type": "code",
   "execution_count": 75,
   "metadata": {},
   "outputs": [
    {
     "data": {
      "text/plain": [
       "array([2.35282587e-03, 2.99030590e-02, 3.35556329e-03, 4.89251857e-02,\n",
       "       5.58992753e-04, 1.18979196e-02, 1.08933090e-01, 2.32384066e-01,\n",
       "       3.37176567e-04, 3.38629598e-03, 1.61361529e-03, 2.06811626e-02,\n",
       "       8.70783746e-03, 4.69767761e-01, 5.71954496e-02])"
      ]
     },
     "execution_count": 75,
     "metadata": {},
     "output_type": "execute_result"
    }
   ],
   "source": [
    "rfr.feature_importances_"
   ]
  },
  {
   "cell_type": "code",
   "execution_count": 76,
   "metadata": {},
   "outputs": [
    {
     "name": "stdout",
     "output_type": "stream",
     "text": [
      "                        Imp\n",
      "Cars_Category      0.469768\n",
      "Power              0.232384\n",
      "Engine             0.108933\n",
      "CarAge             0.057195\n",
      "Transmission       0.048925\n",
      "Kilometers_Driven  0.029903\n",
      "Brand              0.020681\n",
      "Mileage            0.011898\n",
      "Model              0.008708\n",
      "Seats              0.003386\n",
      "Fuel_Type          0.003356\n",
      "Location           0.002353\n",
      "No. of Doors       0.001614\n",
      "Owner_Type         0.000559\n",
      "Colour             0.000337\n"
     ]
    }
   ],
   "source": [
    "print (pd.DataFrame(rfr.feature_importances_, columns = [\"Imp\"], index = x_train.columns).sort_values('Imp',ascending=False))"
   ]
  }
 ],
 "metadata": {
  "kernelspec": {
   "display_name": "Python 3",
   "language": "python",
   "name": "python3"
  },
  "language_info": {
   "codemirror_mode": {
    "name": "ipython",
    "version": 3
   },
   "file_extension": ".py",
   "mimetype": "text/x-python",
   "name": "python",
   "nbconvert_exporter": "python",
   "pygments_lexer": "ipython3",
   "version": "3.8.5"
  },
  "toc": {
   "base_numbering": 1,
   "nav_menu": {},
   "number_sections": true,
   "sideBar": true,
   "skip_h1_title": false,
   "title_cell": "Table of Contents",
   "title_sidebar": "Contents",
   "toc_cell": false,
   "toc_position": {},
   "toc_section_display": true,
   "toc_window_display": false
  },
  "varInspector": {
   "cols": {
    "lenName": 16,
    "lenType": 16,
    "lenVar": 40
   },
   "kernels_config": {
    "python": {
     "delete_cmd_postfix": "",
     "delete_cmd_prefix": "del ",
     "library": "var_list.py",
     "varRefreshCmd": "print(var_dic_list())"
    },
    "r": {
     "delete_cmd_postfix": ") ",
     "delete_cmd_prefix": "rm(",
     "library": "var_list.r",
     "varRefreshCmd": "cat(var_dic_list()) "
    }
   },
   "types_to_exclude": [
    "module",
    "function",
    "builtin_function_or_method",
    "instance",
    "_Feature"
   ],
   "window_display": false
  }
 },
 "nbformat": 4,
 "nbformat_minor": 4
}
